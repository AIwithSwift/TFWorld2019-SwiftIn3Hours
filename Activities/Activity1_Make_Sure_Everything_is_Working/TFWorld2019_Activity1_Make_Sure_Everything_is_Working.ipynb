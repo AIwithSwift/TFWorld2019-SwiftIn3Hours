{
 "cells": [
  {
   "cell_type": "markdown",
   "metadata": {},
   "source": [
    "# Activity 1 | Make Sure Everything is Working!"
   ]
  },
  {
   "cell_type": "markdown",
   "metadata": {},
   "source": [
    "First, we want to make sure everything is working correctly for you. Whether you're using Google Colab, or a local install, we want to step through this notebook with you\n",
    "\n",
    "Some of the things you'll see here are _spoilers_ of sorts, for later bits of the session. Never fear, we'll discuss it all!"
   ]
  },
  {
   "cell_type": "markdown",
   "metadata": {},
   "source": [
    "First, let's `import TensorFlow` (nothing should happen, but it should run successfully). Once that's done, you have the full Swift for TensorFlow library at your disposal. We're going to do that, and then not use it:"
   ]
  },
  {
   "cell_type": "code",
   "execution_count": 1,
   "metadata": {},
   "outputs": [],
   "source": [
    "import TensorFlow"
   ]
  },
  {
   "cell_type": "markdown",
   "metadata": {},
   "source": [
    "Next, define a `message` `String`, and then `print()` it:"
   ]
  },
  {
   "cell_type": "code",
   "execution_count": 2,
   "metadata": {},
   "outputs": [
    {
     "name": "stdout",
     "output_type": "stream",
     "text": [
      "Welcome to TensorFlow World 2019!\r\n"
     ]
    }
   ],
   "source": [
    "let message = \"Welcome to TensorFlow World 2019!\"\n",
    "print(message)"
   ]
  },
  {
   "cell_type": "markdown",
   "metadata": {},
   "source": [
    "Then `print()` a little `String`, and define an array of presenters:"
   ]
  },
  {
   "cell_type": "code",
   "execution_count": 3,
   "metadata": {},
   "outputs": [
    {
     "name": "stdout",
     "output_type": "stream",
     "text": [
      "This session is presented by: \r\n"
     ]
    }
   ],
   "source": [
    "print(\"This session is presented by: \")\n",
    "var presenters = [\"Mars Geldard\", \"Tim Nugent\", \"Paris Buttfield-Addison\"]"
   ]
  },
  {
   "cell_type": "markdown",
   "metadata": {},
   "source": [
    "And use a `for` loop to `print()` each presenter in the array:"
   ]
  },
  {
   "cell_type": "code",
   "execution_count": 4,
   "metadata": {},
   "outputs": [
    {
     "name": "stdout",
     "output_type": "stream",
     "text": [
      "Mars Geldard\r\n",
      "Tim Nugent\r\n",
      "Paris Buttfield-Addison\r\n"
     ]
    }
   ],
   "source": [
    "for presenter in presenters {\n",
    "    print(presenter)\n",
    "}"
   ]
  },
  {
   "cell_type": "markdown",
   "metadata": {},
   "source": [
    "Now, `import Python`:"
   ]
  },
  {
   "cell_type": "code",
   "execution_count": null,
   "metadata": {},
   "outputs": [],
   "source": [
    "import Python"
   ]
  },
  {
   "cell_type": "markdown",
   "metadata": {},
   "source": [
    "And `print()` the `Python.version`:"
   ]
  },
  {
   "cell_type": "code",
   "execution_count": null,
   "metadata": {},
   "outputs": [],
   "source": [
    "print(Python.version)"
   ]
  }
 ],
 "metadata": {
  "kernelspec": {
   "display_name": "Swift",
   "language": "swift",
   "name": "swift"
  },
  "language_info": {
   "file_extension": ".swift",
   "mimetype": "text/x-swift",
   "name": "swift",
   "version": ""
  }
 },
 "nbformat": 4,
 "nbformat_minor": 2
}
