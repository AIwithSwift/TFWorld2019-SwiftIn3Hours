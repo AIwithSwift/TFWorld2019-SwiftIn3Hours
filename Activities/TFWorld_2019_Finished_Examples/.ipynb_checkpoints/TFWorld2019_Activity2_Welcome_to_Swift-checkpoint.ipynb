{
 "cells": [
  {
   "cell_type": "code",
   "execution_count": 1,
   "metadata": {},
   "outputs": [],
   "source": [
    "import Foundation\n",
    "import TensorFlow\n",
    "import Python"
   ]
  },
  {
   "cell_type": "code",
   "execution_count": 2,
   "metadata": {},
   "outputs": [
    {
     "name": "stdout",
     "output_type": "stream",
     "text": [
      "Welcome to Swift!\r\n"
     ]
    }
   ],
   "source": [
    "print(\"Welcome to Swift!\")"
   ]
  },
  {
   "cell_type": "code",
   "execution_count": 3,
   "metadata": {},
   "outputs": [],
   "source": [
    "func display(message: String) {\n",
    "    print(\"The message is: \\(message)\")\n",
    "}"
   ]
  },
  {
   "cell_type": "code",
   "execution_count": 4,
   "metadata": {},
   "outputs": [
    {
     "name": "stdout",
     "output_type": "stream",
     "text": [
      "The message is: Swift has functions, and String interpolation!\r\n"
     ]
    }
   ],
   "source": [
    "display(message: \"Swift has functions, and String interpolation!\")"
   ]
  },
  {
   "cell_type": "code",
   "execution_count": null,
   "metadata": {},
   "outputs": [],
   "source": [
    "for i in 0..<2 {\n",
    "    print(\"Swift has for loops!\")\n",
    "}"
   ]
  },
  {
   "cell_type": "code",
   "execution_count": 5,
   "metadata": {},
   "outputs": [
    {
     "name": "stdout",
     "output_type": "stream",
     "text": [
      "Lots of different things can be done! The current number from the array is 0, by the way.\r\n",
      "Lots of different things can be done! The current number from the array is 5, by the way.\r\n",
      "Lots of different things can be done! The current number from the array is 10, by the way.\r\n"
     ]
    }
   ],
   "source": [
    "for i in [0, 5, 10] {\n",
    "    print(\"Lots of different things can be done! The current number from the array is \\(i), by the way.\")\n",
    "}"
   ]
  },
  {
   "cell_type": "code",
   "execution_count": null,
   "metadata": {},
   "outputs": [],
   "source": [
    "for i in stride(from: 7, to: 97, by: 4) {\n",
    "    print(\"Swift is very useful. The current number is \\(i).\")\n",
    "}"
   ]
  }
 ],
 "metadata": {
  "kernelspec": {
   "display_name": "Swift",
   "language": "swift",
   "name": "swift"
  },
  "language_info": {
   "file_extension": ".swift",
   "mimetype": "text/x-swift",
   "name": "swift",
   "version": ""
  }
 },
 "nbformat": 4,
 "nbformat_minor": 2
}
