{
 "cells": [
  {
   "cell_type": "markdown",
   "metadata": {},
   "source": [
    "# Activity 5 | Making a (Basic XOR) Model"
   ]
  },
  {
   "cell_type": "markdown",
   "metadata": {},
   "source": [
    "In this example, we assemble a multilayer peceptron network that can perform XOR. It's not very useful, but it showcases how you build up a model using layers, and how to execute training with that model. It's simple enough that you know whether it's correct."
   ]
  },
  {
   "cell_type": "code",
   "execution_count": 3,
   "metadata": {},
   "outputs": [],
   "source": [
    "import TensorFlow"
   ]
  },
  {
   "cell_type": "code",
   "execution_count": 4,
   "metadata": {},
   "outputs": [],
   "source": [
    "// Create a XORModel Struct\n",
    "struct XORModel: Layer\n",
    "{\n",
    "  // define three layers, each of Dense type\n",
    "  var inputLayer = Dense<Float>(inputSize: 2, outputSize: 2, activation: sigmoid)\n",
    "  var hiddenLayer = Dense<Float>(inputSize: 2, outputSize: 2, activation: sigmoid)\n",
    "  var outputLayer = Dense<Float>(inputSize: 2, outputSize: 1, activation: sigmoid)\n",
    "  \n",
    "  // procide the differentiable thingo\n",
    "  @differentiable func callAsFunction(_ input: Tensor<Float>) -> Tensor<Float>\n",
    "  {\n",
    "    return input.sequenced(through: inputLayer, hiddenLayer, outputLayer)\n",
    "  }\n",
    "}"
   ]
  },
  {
   "cell_type": "code",
   "execution_count": 5,
   "metadata": {
    "colab": {
     "base_uri": "https://localhost:8080/",
     "height": 1000
    },
    "colab_type": "code",
    "id": "kZRlD4utdPuX",
    "outputId": "21f1e01d-a7f5-4b71-d6d3-109018733b6e"
   },
   "outputs": [],
   "source": [
    "// create an instance of our XORModel Struct (defined above)\n",
    "var model = XORModel()\n",
    "\n",
    "// create an optimizer (standard gradient descent)\n",
    "let optimizer = SGD(for: model, learningRate: 0.02)\n",
    "\n",
    "// create some training data\n",
    "let trainingData: Tensor<Float> = [[0, 0], [0, 1], [1, 0], [1, 1]]\n",
    "\n",
    "// label the training data (so we know the correct outputs)\n",
    "let trainingLabels: Tensor<Float> = [[0], [1], [1], [0]]"
   ]
  },
  {
   "cell_type": "code",
   "execution_count": null,
   "metadata": {},
   "outputs": [],
   "source": [
    "// train to 100,000\n",
    "for epoch in 0..<100_000\n",
    "{\n",
    "    // do the ting\n",
    "    let 𝛁model = model.gradient { model -> Tensor<Float> in\n",
    "        let ŷ = model(trainingData)\n",
    "        let loss = meanSquaredError(predicted: ŷ, expected: trainingLabels)\n",
    "        if epoch % 5000 == 0\n",
    "        {\n",
    "          print(\"epoch: \\(epoch) loss: \\(loss)\")\n",
    "        }\n",
    "        return loss\n",
    "    }\n",
    "    optimizer.update(&model, along: 𝛁model)\n",
    "}"
   ]
  },
  {
   "cell_type": "markdown",
   "metadata": {},
   "source": [
    "## Testing the model"
   ]
  },
  {
   "cell_type": "code",
   "execution_count": null,
   "metadata": {
    "colab": {
     "base_uri": "https://localhost:8080/",
     "height": 89
    },
    "colab_type": "code",
    "id": "uSC0vIJVv_Cj",
    "outputId": "b451d8f1-45e8-4f97-92a8-8ccf4e189889"
   },
   "outputs": [],
   "source": [
    "print(round(model.inferring(from: [[0, 0], [0, 1], [1, 0], [1, 1]])))"
   ]
  }
 ],
 "metadata": {
  "file_extension": ".py",
  "kernelspec": {
   "display_name": "Swift",
   "language": "swift",
   "name": "swift"
  },
  "language_info": {
   "file_extension": ".swift",
   "mimetype": "text/x-swift",
   "name": "swift",
   "version": ""
  },
  "mimetype": "text/x-python",
  "name": "python",
  "npconvert_exporter": "python",
  "pygments_lexer": "ipython3",
  "version": 3
 },
 "nbformat": 4,
 "nbformat_minor": 2
}
