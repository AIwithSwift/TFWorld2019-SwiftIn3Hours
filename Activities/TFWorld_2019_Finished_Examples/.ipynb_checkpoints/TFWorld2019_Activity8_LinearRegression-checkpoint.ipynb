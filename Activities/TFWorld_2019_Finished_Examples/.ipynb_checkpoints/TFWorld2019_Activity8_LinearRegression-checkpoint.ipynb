{
 "cells": [
  {
   "cell_type": "markdown",
   "metadata": {
    "colab_type": "text",
    "id": "bChC2l3EPmoi"
   },
   "source": [
    "# Activity 8 | Linear Regression\n",
    "\n",
    "Simple linear regression (Width, Height, Sex) with multi-variable and categories.\n",
    "\n",
    "Dataset with Height, Weight, Sex statistics from: \n",
    "\n",
    "https://raw.githubusercontent.com/Dataweekends/zero_to_deep_learning_video/master/data/weight-height.csv\n",
    "\n",
    "**Swift with SciKit Learn MinMax normalization**\n",
    "\n",
    "Use Python/Pandas to import the dataset Use SciKit Learn to normalize values with MinMax scaler\n",
    "Based on https://github.com/JacopoMangiavacchi/Swift-TensorFlow-Sample-Notebooks"
   ]
  },
  {
   "cell_type": "code",
   "execution_count": 0,
   "metadata": {
    "colab": {},
    "colab_type": "code",
    "id": "TgiX5mzQ5vTd"
   },
   "outputs": [],
   "source": [
    "import Python\n",
    "import TensorFlow\n",
    "\n",
    "func getNumpyNormalizedDataset() -> (PythonObject, PythonObject) \n",
    "{\n",
    "    let numpy = Python.import(\"numpy\")\n",
    "    let pandas = Python.import(\"pandas\")\n",
    "    let io = Python.import(\"io\")\n",
    "    let requests = Python.import(\"requests\")\n",
    "    let preprocessing = Python.import(\"sklearn.preprocessing\")\n",
    "\n",
    "\n",
    "    let url=\"https://raw.githubusercontent.com/Dataweekends/zero_to_deep_learning_video/master/data/weight-height.csv\"\n",
    "    let s = requests.get(url).content\n",
    "    let df = pandas.read_csv(io.StringIO(s.decode(\"utf-8\")))\n",
    "\n",
    "    let dummies = pandas.get_dummies(df[[\"Gender\"]])\n",
    "    let transformed = pandas.concat([df[[\"Height\", \"Weight\"]], dummies], 1)\n",
    "    print(transformed)\n",
    "\n",
    "    let X = transformed[[\"Height\",\"Gender_Female\",\"Gender_Male\"]].values\n",
    "    let Y = transformed[[\"Weight\"]].values\n",
    "\n",
    "    let scaler = preprocessing.MinMaxScaler()\n",
    "    let xNP = numpy.array(scaler.fit_transform(X))\n",
    "    let yNP = numpy.array(scaler.fit_transform(Y))  \n",
    "    \n",
    "    return (xNP, yNP)\n",
    "}"
   ]
  },
  {
   "cell_type": "code",
   "execution_count": 0,
   "metadata": {
    "colab": {},
    "colab_type": "code",
    "id": "_e1hzXeb8J5d"
   },
   "outputs": [],
   "source": [
    "struct LinearRegression: Layer \n",
    "{\n",
    "    var l1: Dense<Float>\n",
    "    init(variables: Int = 1) \n",
    "    {\n",
    "        l1 = Dense<Float>(inputSize: variables, outputSize: 1, activation: identity)\n",
    "    }\n",
    "  \n",
    "    @differentiable func callAsFunction(_ input: Tensor<Float>) -> Tensor<Float>\n",
    "    {\n",
    "       return l1(input)\n",
    "    }\n",
    "}"
   ]
  },
  {
   "cell_type": "code",
   "execution_count": 50,
   "metadata": {
    "colab": {
     "base_uri": "https://localhost:8080/",
     "height": 255
    },
    "colab_type": "code",
    "id": "JdGxV6K2VZ2X",
    "outputId": "27e8bc62-ddfd-4567-c20d-eaa3b0a51743"
   },
   "outputs": [
    {
     "name": "stdout",
     "output_type": "stream",
     "text": [
      "         Height  ...  Gender_Male\r\n",
      "0     73.847017  ...            1\r\n",
      "1     68.781904  ...            1\r\n",
      "2     74.110105  ...            1\r\n",
      "3     71.730978  ...            1\r\n",
      "4     69.881796  ...            1\r\n",
      "...         ...  ...          ...\r\n",
      "9995  66.172652  ...            0\r\n",
      "9996  67.067155  ...            0\r\n",
      "9997  63.867992  ...            0\r\n",
      "9998  69.034243  ...            0\r\n",
      "9999  61.944246  ...            0\r\n",
      "\r\n",
      "[10000 rows x 4 columns]\r\n"
     ]
    }
   ],
   "source": [
    "let (xNP, yNP) = getNumpyNormalizedDataset()\n",
    "\n",
    "let xArray = xNP.tolist().flatMap{ $0.map{ Float($0)! }}\n",
    "let yArray = yNP.tolist().flatMap{ $0.map{ Float($0)! }}\n",
    "\n",
    "let x = Tensor<Float>(shape: [10000, 3], scalars: xArray)\n",
    "let y = Tensor<Float>(shape: [10000, 1], scalars: yArray)"
   ]
  },
  {
   "cell_type": "code",
   "execution_count": 51,
   "metadata": {
    "colab": {
     "base_uri": "https://localhost:8080/",
     "height": 357
    },
    "colab_type": "code",
    "id": "OkEgM40GQGKG",
    "outputId": "071726ce-953b-4593-b4fb-d18b862656a4"
   },
   "outputs": [
    {
     "name": "stdout",
     "output_type": "stream",
     "text": [
      "Epoch: 100 Cost: 0.006617514\r\n",
      "Epoch: 200 Cost: 0.00607133\n",
      "Epoch: 300 Cost: 0.0056273188\n",
      "Epoch: 400 Cost: 0.005236763\n",
      "Epoch: 500 Cost: 0.0048931628\n",
      "Epoch: 600 Cost: 0.0045908713\n",
      "Epoch: 700 Cost: 0.0043249247\n",
      "Epoch: 800 Cost: 0.004090949\n",
      "Epoch: 900 Cost: 0.003885106\n",
      "Epoch: 1000 Cost: 0.00370401\n",
      "Epoch: 1100 Cost: 0.0035446854\n",
      "Epoch: 1200 Cost: 0.0034045146\n",
      "Epoch: 1300 Cost: 0.0032811984\n",
      "Epoch: 1400 Cost: 0.0031727082\n",
      "Epoch: 1500 Cost: 0.0030772602\n",
      "Epoch: 1600 Cost: 0.002993288\n",
      "Epoch: 1700 Cost: 0.0029194108\n",
      "Epoch: 1800 Cost: 0.0028544152\n",
      "Epoch: 1900 Cost: 0.0027972348\n",
      "Epoch: 2000 Cost: 0.0027469285\n"
     ]
    }
   ],
   "source": [
    "let optimizer = SGD(for: model, learningRate: 0.03)\n",
    "var model = LinearRegression(variables: 3)\n",
    "\n",
    "for epoch in 1...2000 {\n",
    "    let (cost, 𝛁model) = model.valueWithGradient { m -> Tensor<Float> in\n",
    "        let ŷ = m(x)\n",
    "        return meanSquaredError(predicted: ŷ, expected: y)\n",
    "    }\n",
    "    optimizer.update(&model, along: 𝛁model)\n",
    "  \n",
    "    if epoch % 100 == 0 {\n",
    "        print(\"Epoch: \\(epoch) Cost: \\(cost)\")\n",
    "    }\n",
    "}"
   ]
  },
  {
   "cell_type": "code",
   "execution_count": 53,
   "metadata": {
    "colab": {
     "base_uri": "https://localhost:8080/",
     "height": 34
    },
    "colab_type": "code",
    "id": "LOmonwRSVqui",
    "outputId": "d0dd1f86-0115-49b7-eb90-034d6dada041"
   },
   "outputs": [
    {
     "name": "stdout",
     "output_type": "stream",
     "text": [
      "[[0.65355074]]\r\n"
     ]
    }
   ],
   "source": [
    "print(model.inferring(from:[[0.7, 0, 1]])) //Height, Female, Male"
   ]
  }
 ],
 "metadata": {
  "colab": {
   "collapsed_sections": [],
   "name": "TFWorld2019_More_Python.ipynb",
   "provenance": []
  },
  "kernelspec": {
   "display_name": "Swift",
   "language": "swift",
   "name": "swift"
  },
  "language_info": {
   "file_extension": ".swift",
   "mimetype": "text/x-swift",
   "name": "swift",
   "version": ""
  }
 },
 "nbformat": 4,
 "nbformat_minor": 1
}
