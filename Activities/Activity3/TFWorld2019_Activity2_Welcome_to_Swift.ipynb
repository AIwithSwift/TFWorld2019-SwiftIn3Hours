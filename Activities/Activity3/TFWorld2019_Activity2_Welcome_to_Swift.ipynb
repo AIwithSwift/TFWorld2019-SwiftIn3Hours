{
 "cells": [
  {
   "cell_type": "code",
   "execution_count": 1,
   "metadata": {},
   "outputs": [],
   "source": [
    "import Foundation\n",
    "import TensorFlow\n",
    "import Python"
   ]
  },
  {
   "cell_type": "code",
   "execution_count": 2,
   "metadata": {},
   "outputs": [
    {
     "name": "stdout",
     "output_type": "stream",
     "text": [
      "Welcome to Swift!\r\n"
     ]
    }
   ],
   "source": [
    "print(\"Welcome to Swift!\")"
   ]
  },
  {
   "cell_type": "code",
   "execution_count": 3,
   "metadata": {},
   "outputs": [],
   "source": [
    "func display(message: String) {\n",
    "    print(\"The message is: \\(message)\")\n",
    "}"
   ]
  },
  {
   "cell_type": "code",
   "execution_count": 4,
   "metadata": {},
   "outputs": [
    {
     "name": "stdout",
     "output_type": "stream",
     "text": [
      "The message is: Swift has functions, and String interpolation!\r\n"
     ]
    }
   ],
   "source": [
    "display(message: \"Swift has functions, and String interpolation!\")"
   ]
  },
  {
   "cell_type": "code",
   "execution_count": null,
   "metadata": {},
   "outputs": [],
   "source": [
    "for i in 0..<2 {\n",
    "    print(\"Swift has for loops!\")\n",
    "}"
   ]
  },
  {
   "cell_type": "code",
   "execution_count": 5,
   "metadata": {},
   "outputs": [
    {
     "name": "stdout",
     "output_type": "stream",
     "text": [
      "Lots of different things can be done! The current number from the array is 0, by the way.\r\n",
      "Lots of different things can be done! The current number from the array is 5, by the way.\r\n",
      "Lots of different things can be done! The current number from the array is 10, by the way.\r\n"
     ]
    }
   ],
   "source": [
    "for i in [0, 5, 10] {\n",
    "    print(\"Lots of different things can be done! The current number from the array is \\(i), by the way.\")\n",
    "}"
   ]
  },
  {
   "cell_type": "code",
   "execution_count": 6,
   "metadata": {},
   "outputs": [
    {
     "name": "stdout",
     "output_type": "stream",
     "text": [
      "Swift is very useful. The current number is 7.\r\n",
      "Swift is very useful. The current number is 11.\r\n",
      "Swift is very useful. The current number is 15.\r\n",
      "Swift is very useful. The current number is 19.\r\n",
      "Swift is very useful. The current number is 23.\r\n",
      "Swift is very useful. The current number is 27.\r\n",
      "Swift is very useful. The current number is 31.\r\n",
      "Swift is very useful. The current number is 35.\r\n",
      "Swift is very useful. The current number is 39.\r\n",
      "Swift is very useful. The current number is 43.\r\n",
      "Swift is very useful. The current number is 47.\r\n",
      "Swift is very useful. The current number is 51.\r\n",
      "Swift is very useful. The current number is 55.\r\n",
      "Swift is very useful. The current number is 59.\r\n",
      "Swift is very useful. The current number is 63.\r\n",
      "Swift is very useful. The current number is 67.\r\n",
      "Swift is very useful. The current number is 71.\r\n",
      "Swift is very useful. The current number is 75.\r\n",
      "Swift is very useful. The current number is 79.\r\n",
      "Swift is very useful. The current number is 83.\r\n",
      "Swift is very useful. The current number is 87.\r\n",
      "Swift is very useful. The current number is 91.\r\n",
      "Swift is very useful. The current number is 95.\r\n"
     ]
    }
   ],
   "source": [
    "for i in stride(from: 7, to: 97, by: 4) {\n",
    "    print(\"Swift is very useful. The current number is \\(i).\")\n",
    "}"
   ]
  },
  {
   "cell_type": "code",
   "execution_count": 2,
   "metadata": {},
   "outputs": [],
   "source": [
    "//: Stored values can be variable or constant, whose value cannot be changed once assigned. These are determined by the use of the 'var' or 'let' keyword in their initial declaration. This can be used to keep safe the values you need to know but that you want to make sure are never changed. Xcode will pick up on any violations at compile time.\n",
    "\n",
    "var integerVariable: Int = 1\n",
    "integerVariable = 2 // perfectly fine to do\n",
    "\n",
    "let integerConstant: Int = 1\n",
    "//integerConstant = 2 // ERROR: Cannot assign to value: 'integerConstant' is a 'let' constant"
   ]
  },
  {
   "cell_type": "code",
   "execution_count": null,
   "metadata": {},
   "outputs": [],
   "source": [
    "//: Declarations can also be explicitly or implicitly typed--this is sometimes called Static Typing versus Type Inference. Where not declared, Swift will default to whichever basic type it thinks is most likely based on what value you initially give it, if it is able. Because of this, a declaration that is not being assigned a value in the same line cannot be implicitly-typed.\n",
    "\n",
    "let explicitInteger: Int = 1\n",
    "type(of: explicitInteger) // Integer Type\n",
    "\n",
    "let implicitInteger = 1\n",
    "type(of: implicitInteger) // also an Integer Type\n",
    "\n",
    "//: This works for quite a few different types of values, but not always as you'd expect.\n",
    "let implicitDouble = 1.0\n",
    "type(of: implicitDouble)\n",
    "\n",
    "let implicitString = \"s\"\n",
    "type(of:implicitString) // NOTE: it does not infer Char for single-character Strings\n",
    "//: To be sure, you can always option-click on a variable's name to see its Type.\n",
    "\n",
    "var mysteryTypedVariable = [5, 4, 3, 2, 1.0]"
   ]
  },
  {
   "cell_type": "code",
   "execution_count": null,
   "metadata": {},
   "outputs": [],
   "source": [
    "//: Swift itself also supports full Unicode in its Strings. Yes, you can make emoji variable names. No, you should not make emoji variable names. But this support is great for not breaking other things and for robust localization.\n",
    "let 🦕 = \"dinosaur\"\n",
    "let dinosaur = \"🦖\""
   ]
  },
  {
   "cell_type": "code",
   "execution_count": null,
   "metadata": {},
   "outputs": [],
   "source": [
    "//: Swift is a **very** strongly typed language, and the compiler is very picky about ensuring type safety. Many types however support direct typecasting:\n",
    "let typeCastDouble = 1 as Double"
   ]
  },
  {
   "cell_type": "code",
   "execution_count": null,
   "metadata": {},
   "outputs": [],
   "source": [
    "//: For others, they may require a custom function to be written or some extra information. But usually it is a simple case of initialising the new type with the old value, like so:\n",
    "let typecastDouble = Double(integerVariable)\n",
    "let typecastInteger = Int(typecastDouble)"
   ]
  },
  {
   "cell_type": "code",
   "execution_count": null,
   "metadata": {},
   "outputs": [],
   "source": [
    "//: Collection types such as Arrays and Dictionaries are especially clean and intuitive in Swift. They can easily be declared and manipulated with literals that leave the initialisation to the machine.\n",
    "var stringArray = [\"First element\", \"Second element\", \"Third element\"]\n",
    "\n",
    "stringArray += [\"More Array elements\", \"Can be added en masse\", \"As either addition of two or more Arrays\"]\n",
    "\n",
    "stringArray.append(\"Or as one element at a time\")\n",
    "\n",
    "//: You can insert, find or remove elements in many ways, as well as obtaining subsequences, descriptions, hashes and more of the Array.\n",
    "stringArray.insert(\"Zero-th element\", at: 0)\n",
    "stringArray.count\n",
    "stringArray.dropLast(4)\n",
    "\n",
    "//: You can also directly insert and address elements using subscripts:\n",
    "stringArray[0] = \"New Zero-th element\"\n",
    "let secondElement = stringArray[1]"
   ]
  },
  {
   "cell_type": "code",
   "execution_count": null,
   "metadata": {},
   "outputs": [],
   "source": [
    "/*:\n",
    " # Operators\n",
    " \n",
    " It's a programming langauge: it has maths and logic. You can do maths with the math bits and logic with the logic bits and sometimes--*if you're feeling saucy*--logic with the maths bits or maths with the logic bits.\n",
    " */\n",
    "//: Swift has some math operators you would expect...\n",
    "let addition        = 2 + 1 // two plus one\n",
    "let subtraction     = 2 - 1 // two minus one\n",
    "let multiplication  = 2 * 1 // two times one\n",
    "let division        = 2 / 1 // two divided by one (integer division)\n",
    "let modulo          = 2 % 1 // remainder from two integer division one"
   ]
  },
  {
   "cell_type": "code",
   "execution_count": null,
   "metadata": {},
   "outputs": [],
   "source": [
    "//: ...it also doesn't have some you might expect though...\n",
    "//let exponential     = 2 ** 1 // ERROR: Use of unresolved operator '**' (doesn't exist in Swift)\n",
    "let exponential     = pow(2, 1) // two to the power of one (function included in Foundation library)\n",
    "//: ...it has some comparison operators too...\n",
    "let greater   = 2 > 1  // boolean representing whether two is greater than one\n",
    "let less      = 2 < 1  // boolean representing whether two is less than one\n",
    "let equal     = 2 == 1 // boolean representing whether two is equal to one\n",
    "//: ...and some compound operators for some of the above put together.\n",
    "// you can skip steps when changing and then re-assigning in one step\n",
    "var number = 2\n",
    "//number = number + 1\n",
    "number += 1 // left side equals left side plus right side (addition and assignment in one step)\n",
    "//number = number - 2\n",
    "number -= 2 // left side equals left side minus right side (subtraction and assignment in one step)\n",
    "//number = number * 4\n",
    "number *= 4 // left side equals left side times by right side (multiplication and assignment in one step)\n",
    "//number = number / 2\n",
    "number /= 2 // left side equals left side divided by right side (division and assignment in one step)\n",
    "\n",
    "\n",
    "// but not in the way many other languages allow\n",
    "//number++ // ERROR: Unary operator '++' cannot be applied to an operand of type '@lvalue Int' (doesn't exist, such unary operators deprecated from the language in Swift 3)\n",
    "\n",
    "\n",
    "// you can be less restrictive in your checks\n",
    "let greaterOrEqual  = 2 >= 1 // boolean representing whether two is greater than OR EQUAL TO one\n",
    "let lessOrEqual     = 2 <= 1 // boolean representing whether two is less than OR EQUAL TO one\n",
    "let notEqual        = 2 != 1 // boolean representing whether two is not equal to one"
   ]
  },
  {
   "cell_type": "code",
   "execution_count": null,
   "metadata": {},
   "outputs": [],
   "source": [
    "// or more restrictive\n",
    "class SomeObject {}     // some fake object class\n",
    "let oneObject       = SomeObject()  // a default object of that class\n",
    "let anotherObject   = SomeObject()  // another default object of that class\n",
    "\n",
    "let same            = oneObject === anotherObject // boolean representing whether oneObject and anotherObject are THE SAME OBJECT, regardless of whether they have the same values"
   ]
  },
  {
   "cell_type": "code",
   "execution_count": null,
   "metadata": {},
   "outputs": [],
   "source": [
    "/*:\n",
    " There are also a range of operators for bitwise calculation or manipulation and and compound operators that allow overflow handling in multiplication and division, but that is likely more maths than you will need at this point. You can declare your own operators too, similarly to how you'd declare a function. More details can be found [here](https://docs.swift.org/swift-book/LanguageGuide/BasicOperators.html) and [here](https://docs.swift.org/swift-book/LanguageGuide/AdvancedOperators.html).\n",
    "\n",
    " As you saw above with some String manipulation, there is also the \"dot\" operator. This accesses properties and functions that the preceding variable or type has. For example...\n",
    " */"
   ]
  },
  {
   "cell_type": "code",
   "execution_count": null,
   "metadata": {},
   "outputs": [],
   "source": [
    "stringArray.count       // every Array type has an inbuilt value called \"count\" that will return an Int representing the number of elements it contains\n",
    "stringArray.removeAll() // Arrays also have the ability to clear all their elements at once\n",
    "//: When we talk about custom types a little later, you will see how you can give new values and behaviours to existing and custom types that can then be accessed this way."
   ]
  },
  {
   "cell_type": "code",
   "execution_count": null,
   "metadata": {},
   "outputs": [],
   "source": [
    "/*:\n",
    " # Flow Control\n",
    " \n",
    " So we can now write lines of code and run them in order. That's all well and good, but what about when we want to run--or even repeat--different segments depending on or to cause different behaviours? We need flow control structures: things that allow us to skip or repeat code.\n",
    " */\n",
    "\n",
    "//: You can use the \"if\" or \"if-else\" structure to take different paths or omit code based on certain conditions.\n",
    "// declare some values\n",
    "var thing = 1\n",
    "var otherThing = 2\n",
    "\n",
    "\n",
    "// and you can check them with a structure like this\n",
    "if thing == otherThing {\n",
    "    otherThing += 1\n",
    "}\n",
    "\n",
    "// or this\n",
    "var greatest = 0\n",
    "\n",
    "if thing > otherThing {\n",
    "    \n",
    "    greatest = thing\n",
    "} else {\n",
    "    \n",
    "    greatest = otherThing\n",
    "}\n",
    "\n",
    "//: But who could forget a personal favourite of ours, the ternary operator. This question mark-colon pairing means \"if the first third is true then do the second third, else the third third\". It's a handy and readable shorthand.\n",
    "\n",
    "greatest = thing > otherThing ? thing : otherThing\n",
    "//  reads as greatest equals (if thing > otherthing then thing else otherThing)\n",
    "//: This is also useful for doing different actions based on a boolean check\n",
    "let todayString = String(describing: Date()) // the datetime right now as a String\n",
    "//todayString.hasPrefix(\"2018-07-19 16\") ? print(\"It's TALK TIME!\") : print(\"False Alarm\")\n",
    "//: You can run a block multiple times until a desired point is reached using a \"while\" loop.\n",
    "let answer = 10\n",
    "var guess = -1\n",
    "\n",
    "while guess != answer {\n",
    "    \n",
    "    guess = Int(arc4random_uniform(11)) // a random number between 0 and 10\n",
    "}\n",
    "\n",
    "// to get here the block above will need to repeat one to theoretically infinite times\n",
    "// once you get here, you know guess must equal answer\n",
    "//: Where iteration indices are needed or a loop should happen a fixed number of times, \"for-in\" loops can be used. There are many forms of the syntax that can be used for this, here are just a few examples:\n",
    "var numbers = [1, 5, 10]\n",
    "var sum = 0"
   ]
  },
  {
   "cell_type": "code",
   "execution_count": null,
   "metadata": {},
   "outputs": [],
   "source": [
    "\n",
    "// OPTION 1: a numeric range\n",
    "for number in 0..<numbers.count { // for number in 0 to less than 3 (0, 1, 2)\n",
    "    sum += numbers[number]\n",
    "}\n",
    "\n",
    "sum\n",
    "\n",
    "\n",
    "// OPTION 2: a collection\n",
    "for number in numbers { // for each item in collection\n",
    "    sum += number\n",
    "}\n",
    "\n",
    "sum\n",
    "\n",
    "// OPTION 3: a handy combination of the two\n",
    "var status = \"\"\n",
    "\n",
    "for (index, value) in numbers.enumerated() {\n",
    "    status += \"Loop \\(index + 1): \\(value) was added. \"\n",
    "    sum += number\n",
    "}\n",
    "\n",
    "sum"
   ]
  },
  {
   "cell_type": "code",
   "execution_count": null,
   "metadata": {},
   "outputs": [],
   "source": [
    "//: Other structures are used to ensure code is only run if other unsafe conditions do not occur, or to recover from them if they do. The \"do try-catch\" structure is a good catch-all for wrapping unsafe blocks of code in.\n",
    "let unsafeVariable: String? = \"Some unsafe value we're not sure will be valid at runtime.\"\n",
    "\n",
    "\n",
    "extension String: Error {} // make some new object that can BE an Error\n",
    "\n",
    "\n",
    "/// A function that can \"throw\" an error\n",
    "func threeHater(_ input: Int) throws {\n",
    "    \n",
    "    let error = \"INPUT WAS A THREE! ARGH!\"\n",
    "    \n",
    "    if input == 3 {\n",
    "        throw error\n",
    "    }\n",
    "}\n",
    "\n",
    "\n",
    "do {\n",
    "    \n",
    "    try threeHater(2)\n",
    "    //try threeHater(3)\n",
    "} catch {\n",
    "    \n",
    "    // throw an error or perform a recovery here\n",
    "    // multiple \"catch\" clauses can be used to catch different error conditions where needed\n",
    "    print(error)\n",
    "}\n",
    "\n",
    "//: There are more specific keywords and structures that can be used when a single variable is uncertain or unsafe."
   ]
  },
  {
   "cell_type": "code",
   "execution_count": null,
   "metadata": {},
   "outputs": [],
   "source": [
    "/*:\n",
    "# Optionals\n",
    "\n",
    "Swift basic types are non-nullable: if they have ever been initialised they can never NOT have a value of their declared of inferred type. Clean types are all well and good, and these restrictions are some of what makes Swift such a safe language, but in the real world we often pass around objects or values we didn't create or have complete control over.\n",
    "\n",
    "Enter the Optional type.\n",
    "*/"
   ]
  },
  {
   "cell_type": "code",
   "execution_count": null,
   "metadata": {},
   "outputs": [],
   "source": [
    "var normalInteger: Int = 1\n",
    "//normalInteger = nil // ERROR: Nil cannot be assigned to type 'Int'\n",
    "\n",
    "var optionalInteger: Int? = 1\n",
    "optionalInteger = nil\n",
    "/*:\n",
    " However, while this makes the value nullable, it does not allow us the same operations as the original non-Optional type does. To do many things, we must do more than just assume there will be a value to operate on (because the compiler just doesn't trust you any more, you've been wrong before). So we have to perform an \"unwrapping\" to extract the value as its underlying type. To do so, there are a few options:\n",
    " - Using an exclamation mark on an optional Type. Basically saying to the compiler \"there will be a number, trust me\". **This will crash if you are wrong. Don't do this; you are not too cool for memory safety!**\n",
    " - A let-var structure. Basically \"if this assignment to a non-Optional type resolves without crashing, do the thing within the block\".\n",
    " - A guard-let structure. Basically the opposite, \"if this assignment to a non-Optional type causes a crash, do the thing within the block\".\n",
    " */\n",
    "optionalInteger = 10"
   ]
  },
  {
   "cell_type": "code",
   "execution_count": null,
   "metadata": {},
   "outputs": [],
   "source": [
    "func addPi(to optionalInteger: Int?) -> Double {\n",
    "    \n",
    "    let π = Double.pi\n",
    "    var double: Double = 0\n",
    "    \n",
    "    // OPTION 1:\n",
    "    //let integer = optionalInteger! // BADBADBAD\n",
    "    \n",
    "    \n",
    "    // OPTION 2:\n",
    "    if let integer = optionalInteger { // integer is now a normal Int type\n",
    "        double = Double(integer) // you can use it as such\n",
    "    }\n",
    "    \n",
    "    \n",
    "    // OPTION 3:\n",
    "    guard let integer = optionalInteger else { // declare the thing you expect will succeed\n",
    "        return π // exits the current scope to avoid the crash if it didn't go the way you expected\n",
    "    }\n",
    "    \n",
    "    double = Double(integer)\n",
    "    \n",
    "    return double + π\n",
    "}\n",
    "\n",
    "\n",
    "addPi(to: optionalInteger)\n",
    "//: There is also a **nil-coalescing** operator that allows a fallback value if the original is nil. This is shown as two question marks.\n",
    "let integer = optionalInteger ?? 0 // if the first thing turns out to be nil, be the second instead"
   ]
  },
  {
   "cell_type": "code",
   "execution_count": null,
   "metadata": {},
   "outputs": [],
   "source": [
    "/*:\n",
    " # Functions\n",
    " \n",
    " Sometimes you've figured out a clever way to do something, but it takes a lot of steps and you don't want to clutter up your code--or more likely you'll be wanting to use it more than once. To avoid the re-writing of code, we can give a set of steps a name that we can call it by. These are called functions.\n",
    " \n",
    " Functions in Swift are very tidy, and have syntax that allows the combination of a function's name and parameter labels to form a descriptive sentence.\n",
    " */"
   ]
  },
  {
   "cell_type": "code",
   "execution_count": null,
   "metadata": {},
   "outputs": [],
   "source": [
    "func printNiceMessage() {\n",
    "    \n",
    "    print(\"Today is a beautiful day.\")\n",
    "}\n",
    "\n",
    "//printNiceMessage()\n",
    "//: When we bring in the concept of input parameters, Swift also offers a nice syntax for declarative comments that can be found by others in the option-click quickhelp.\n",
    "/**\n",
    " Take input string, remove all non-alphabetic characters (including spaces), uppercase all letters and append an exclamation mark.\n",
    " \n",
    " - parameters:\n",
    "    - from: A String to shout-ify\n",
    " \n",
    " - returns:\n",
    "    A single-word shout-ified String\n",
    " */\n",
    "func makeShouting(from input: String) -> String { // notice this declaration contains two parameter labels\n",
    "    \n",
    "    // the second one is how this value is referred to internally to the function\n",
    "    let word = input.replacingOccurrences( of:\"[^A-Za-z ]\", with: \"\", options: .regularExpression)\n",
    "    let shout = word.uppercased()\n",
    "    \n",
    "    return shout + \"!\"\n",
    "}\n",
    "\n",
    "// the first label is now what we use externally when we call the function, making a human-readable statement\n",
    "let statement = makeShouting(from: \"Mars is the best planet; it's got a mountain that's two and a half times the height of Everest.\")\n",
    "statement\n",
    "//: The use of this parameter label functionality is non-compulsory, as when only a single word is used it becomes the label used both internally *and* externally. Similarly, to be able to pass a parameter without a label, we can use an underscore as the externally-used label. A single function that accepts multiple parameters may use any combination of these.\n",
    "func double(integer: Int) -> Int {\n",
    "    \n",
    "    return integer * 2\n",
    "}\n",
    "\n",
    "\n",
    "func triple(_ integer: Int) -> Int {\n",
    "    \n",
    "    return integer * 3\n",
    "}\n",
    "\n",
    "\n",
    "double(integer: 1)\n",
    "triple(1)\n",
    "//: The order of the parameters is important, they must match the order they are declared in the function definition.\n",
    "//: The idea being that Swift function calls should be read out loud to tell you what they do.\n",
    "//: This doesn't always work.\n",
    "func doAThing(withThis string: String, using int: Int) {\n",
    "    \n",
    "    string\n",
    "    int\n",
    "    \n",
    "    //print(\"doing a thing with this \\(string) and using \\(int)\")\n",
    "}\n",
    "\n",
    "\n",
    "doAThing(withThis: \"string\", using: 5)\n",
    "//: The above works, but this won't\n",
    "//doAThing(using: 5, withThis: \"string\") // ERROR: Argument 'withThis' must precede argument 'using'\n",
    "//: Function **overloading** allows a single function name to be called that will refer to different functions behind the scenes.\n",
    "func reverse(_ string: String) -> String {\n",
    "    \n",
    "    return String(string.reversed())\n",
    "}\n",
    "\n",
    "\n",
    "func reverse(_ integer: Int) -> Int {\n",
    "    \n",
    "    var current = integer\n",
    "    var numberString = \"\"\n",
    "    \n",
    "    while current / 10 != 0 {\n",
    "        numberString += String(current % 10) // append smallest digit to string\n",
    "        current /= 10 // divide running total by ten\n",
    "    }\n",
    "    \n",
    "    let reversed = Int(numberString) ?? 0 // if an integer can be made of reversed String, return that. Otherwise, return zero.\n",
    "    \n",
    "    return reversed\n",
    "}\n",
    "\n",
    "\n",
    "reverse(\"letters\")  // others can now use a function seemingly independent of input type\n",
    "reverse(123)        // but they are handled correctly\n",
    "//: Swift functions also support default values for non-passed parameters.\n",
    "func dateDescription(_ date: Date = Date()) -> String {\n",
    "    \n",
    "    return date.description\n",
    "}\n",
    "\n",
    "\n",
    "let futureDate = Date(timeIntervalSinceNow: TimeInterval(1000.0))\n",
    "\n",
    "dateDescription(futureDate)  // \"date\" within the function will use futureDate\n",
    "dateDescription()            // \"date\" within the function will use Date() (the datetime when the code is run)"
   ]
  },
  {
   "cell_type": "code",
   "execution_count": null,
   "metadata": {},
   "outputs": [],
   "source": [
    "//: Many Swift Collection types also have a number of \"higher-order functions\" that can be applied to them for powerful manipulation with fast results. These take a function or block to execute in conjunction with the operation you called.\n",
    "// you can fetch all elements that match a certain criteria\n",
    "stringArray = [\"First element\", \"Second element\", \"Third element\", \"last element in the array\"]\n",
    "let elementsArray = stringArray.filter { $0.hasSuffix(\"element\") }\n",
    "elementsArray.description\n",
    "\n",
    "\n",
    "// you can change every element in the Array in a certain way\n",
    "let uppercasedStringArray = stringArray.map { $0.uppercased() }\n",
    "uppercasedStringArray.description"
   ]
  },
  {
   "cell_type": "code",
   "execution_count": null,
   "metadata": {},
   "outputs": [],
   "source": []
  }
 ],
 "metadata": {
  "kernelspec": {
   "display_name": "Swift",
   "language": "swift",
   "name": "swift"
  },
  "language_info": {
   "file_extension": ".swift",
   "mimetype": "text/x-swift",
   "name": "swift",
   "version": ""
  }
 },
 "nbformat": 4,
 "nbformat_minor": 2
}
