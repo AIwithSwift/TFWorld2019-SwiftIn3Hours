{
  "nbformat": 4,
  "nbformat_minor": 0,
  "metadata": {
    "colab": {
      "name": "S4TF Tutorial 7",
      "version": "0.3.2",
      "provenance": [],
      "collapsed_sections": []
    },
    "language_info": {
      "file_extension": ".swift",
      "mimetype": "text/x-swift",
      "name": "swift",
      "version": ""
    },
    "kernelspec": {
      "display_name": "Swift",
      "language": "swift",
      "name": "swift"
    },
    "accelerator": "GPU"
  },
  "cells": [
    {
      "cell_type": "markdown",
      "metadata": {
        "colab_type": "text",
        "id": "QyCcF45zBQ3E"
      },
      "source": [
        "##### Copyright 2019 The TensorFlow Authors. [Licensed under the Apache License, Version 2.0](#scrollTo=y_UVSRtBBsJk)."
      ]
    },
    {
      "cell_type": "code",
      "metadata": {
        "colab_type": "code",
        "id": "CPII1rGR2rF9",
        "scrolled": true,
        "colab": {}
      },
      "source": [
        "#@title Licensed under the Apache License, Version 2.0 (the \"License\"); { display-mode: \"form\" }\n",
        "// Licensed under the Apache License, Version 2.0 (the \"License\");\n",
        "// you may not use this file except in compliance with the License.\n",
        "// You may obtain a copy of the License at\n",
        "//\n",
        "// https://www.apache.org/licenses/LICENSE-2.0\n",
        "//\n",
        "// Unless required by applicable law or agreed to in writing, software\n",
        "// distributed under the License is distributed on an \"AS IS\" BASIS,\n",
        "// WITHOUT WARRANTIES OR CONDITIONS OF ANY KIND, either express or implied.\n",
        "// See the License for the specific language governing permissions and\n",
        "// limitations under the License."
      ],
      "execution_count": 0,
      "outputs": []
    },
    {
      "cell_type": "markdown",
      "metadata": {
        "colab_type": "text",
        "id": "YHI3vyhv5p85"
      },
      "source": [
        "# Image Classification using Swift for TensorFlow"
      ]
    },
    {
      "cell_type": "markdown",
      "metadata": {
        "colab_type": "text",
        "id": "OVi775ZJ2bsy"
      },
      "source": [
        "<table class=\"tfo-notebook-buttons\" align=\"left\">\n",
        "  <td>\n",
        "    <a target=\"_blank\" href=\"https://colab.research.google.com/drive/13lBsht3Wa4GjKKkA47JCrd54XikhNX2E\"><img src=\"https://www.tensorflow.org/images/colab_logo_32px.png\" />Run in Google Colab</a>\n",
        "  </td>\n",
        "  <td>\n",
        "    <a target=\"_blank\" href=\"Link to be updated\"><img src=\"https://www.tensorflow.org/images/GitHub-Mark-32px.png\" />GitHub link to be updated accordingly</a>\n",
        "  </td>\n",
        "</table>"
      ]
    },
    {
      "cell_type": "markdown",
      "metadata": {
        "id": "DCxmvkku5R-v",
        "colab_type": "text"
      },
      "source": [
        "In this Colab you will classify images of flowers. We'll build an image classifier using `Layer` and load data by creating training and validation tensors of images as well as their corresponding labels."
      ]
    },
    {
      "cell_type": "markdown",
      "metadata": {
        "id": "nAcmWrRy512Q",
        "colab_type": "text"
      },
      "source": [
        "# Importing packages"
      ]
    },
    {
      "cell_type": "markdown",
      "metadata": {
        "id": "z_IfI4an53t7",
        "colab_type": "text"
      },
      "source": [
        "Let's start by importing required packages:\n",
        "\n",
        "*   glob — to read files and directory structure.\n",
        "*   numpy — for some matrix math outside of TensorFlow.\n",
        "*   matplotlib.pyplot — to plot the graph and display images in our training and validation data.\n",
        "*  PIL — to view images."
      ]
    },
    {
      "cell_type": "code",
      "metadata": {
        "id": "ektHrmri503Q",
        "colab_type": "code",
        "colab": {}
      },
      "source": [
        "import TensorFlow\n",
        "import Foundation\n",
        "import Python\n",
        "\n",
        "%include \"EnableIPythonDisplay.swift\"\n",
        "IPythonDisplay.shell.enable_matplotlib(\"inline\")\n",
        "let np = Python.import(\"numpy\")  // Make numpy available using np.\n",
        "let subprocess = Python.import(\"subprocess\")\n",
        "let plt = Python.import(\"matplotlib.pyplot\")\n",
        "let os = Python.import(\"os\")\n",
        "let glob = Python.import(\"glob\")\n",
        "let pil = Python.import(\"PIL\")\n",
        "\n",
        "// Import packages."
      ],
      "execution_count": 0,
      "outputs": []
    },
    {
      "cell_type": "markdown",
      "metadata": {
        "id": "y3fcURSS6S_i",
        "colab_type": "text"
      },
      "source": [
        "In order to build our image classifier, we can begin by downloading the flowers dataset.  "
      ]
    },
    {
      "cell_type": "code",
      "metadata": {
        "id": "00tAtxan6dbo",
        "colab_type": "code",
        "colab": {}
      },
      "source": [
        "public extension String {\n",
        "    @discardableResult\n",
        "    func shell(_ args: String...) -> String {\n",
        "        let (task, pipe) = (Process(), Pipe())\n",
        "        task.executableURL = URL(fileURLWithPath: self)\n",
        "        (task.arguments, task.standardOutput) = (args, pipe)\n",
        "        do    { try task.run() }\n",
        "        catch { print(\"Unexpected error: \\(error).\") }\n",
        "\n",
        "        let data = pipe.fileHandleForReading.readDataToEndOfFile()\n",
        "        return String(data: data, encoding: String.Encoding.utf8) ?? \"\"\n",
        "    }\n",
        "}"
      ],
      "execution_count": 0,
      "outputs": []
    },
    {
      "cell_type": "code",
      "metadata": {
        "id": "KT2rv2eX6d8b",
        "colab_type": "code",
        "colab": {}
      },
      "source": [
        "print(\"/bin/ls\".shell(\"-lh\"))"
      ],
      "execution_count": 0,
      "outputs": []
    },
    {
      "cell_type": "markdown",
      "metadata": {
        "id": "aonzsRRqoWZ9",
        "colab_type": "text"
      },
      "source": [
        "In order to build our image classifier, we can begin by downloading the flowers dataset. We first need to download the archive version of the dataset and after the download, we unzip it."
      ]
    },
    {
      "cell_type": "code",
      "metadata": {
        "id": "Ejo6uVyR6fe6",
        "colab_type": "code",
        "colab": {}
      },
      "source": [
        "let command = \"wget -nv -O- https://storage.googleapis.com/download.tensorflow.org/example_images/flower_photos.tgz | tar xzf - -C .\"\n",
        "subprocess.call(command, shell: true)"
      ],
      "execution_count": 0,
      "outputs": []
    },
    {
      "cell_type": "markdown",
      "metadata": {
        "id": "NldOzNbk_9xq",
        "colab_type": "text"
      },
      "source": [
        "The  dataset we downloaded contains images of 5 types of flowers:\n",
        "\n",
        "1. Rose\n",
        "2. Daisy\n",
        "3. Dandelion\n",
        "4. Sunflowers\n",
        "5. Tulips\n",
        "\n",
        "So, let's create the labels for these 5 classes: "
      ]
    },
    {
      "cell_type": "code",
      "metadata": {
        "id": "VeDOH8TR_-xi",
        "colab_type": "code",
        "colab": {}
      },
      "source": [
        "let classNames = [\"roses\", \"daisy\", \"dandelion\", \"sunflowers\", \"tulips\"]"
      ],
      "execution_count": 0,
      "outputs": []
    },
    {
      "cell_type": "markdown",
      "metadata": {
        "id": "zN86uRrg7UDc",
        "colab_type": "text"
      },
      "source": [
        "Also, the dataset we have downloaded has following directory structure:\n",
        "\n",
        "<pre style=\"font-size: 10.0pt; font-family: Arial; line-height: 2; letter-spacing: 1.0pt;\" >\n",
        "<b>flower_photos</b>\n",
        "|__ <b>diasy</b>\n",
        "|__ <b>dandelion</b>\n",
        "|__ <b>roses</b>\n",
        "|__ <b>sunflowers</b>\n",
        "|__ <b>tulips</b>\n",
        "</pre>"
      ]
    },
    {
      "cell_type": "code",
      "metadata": {
        "id": "SCombgoqB0hs",
        "colab_type": "code",
        "colab": {}
      },
      "source": [
        "let filelist = try FileManager.default.contentsOfDirectory(atPath: \"./flower_photos/daisy\")\n",
        "for filename in filelist[0..<10] {\n",
        "    print(filename)\n",
        "}"
      ],
      "execution_count": 0,
      "outputs": []
    },
    {
      "cell_type": "code",
      "metadata": {
        "id": "SY9dXaFgBE4l",
        "colab_type": "code",
        "colab": {}
      },
      "source": [
        "let totalImages = glob.glob(\"flower_photos/*/**.jpg\")\n",
        "let daisyList = glob.glob(\"flower_photos/daisy/*.jpg\")\n",
        "let dandelionList = glob.glob(\"flower_photos/dandelion/*.jpg\")\n",
        "let rosesList = glob.glob(\"flower_photos/roses/*.jpg\")\n",
        "let sunflowersList = glob.glob(\"flower_photos/sunflowers/*.jpg\")\n",
        "let tulipsList = glob.glob(\"flower_photos/tulips/*.jpg\")\n",
        "\n",
        "print(\"Total Images \\(totalImages.count)\")\n",
        "print(\"roses \\(rosesList.count)\")\n",
        "print(\"sunflowers \\(sunflowersList.count)\")\n",
        "print(\"daisy \\(daisyList.count)\")\n",
        "print(\"tulips \\(tulipsList.count)\")\n",
        "print(\"dandelion \\(dandelionList.count)\")"
      ],
      "execution_count": 0,
      "outputs": []
    },
    {
      "cell_type": "markdown",
      "metadata": {
        "id": "_fOp3XH_7ngK",
        "colab_type": "text"
      },
      "source": [
        "We'll now assign variables with the proper file path for the training and validation sets."
      ]
    },
    {
      "cell_type": "markdown",
      "metadata": {
        "id": "rJVVxOUXAv8T",
        "colab_type": "text"
      },
      "source": [
        "As you can see there are no folders containing training and validation data. Therefore, we will have to create our own training and validation set. Let's write some code that will do this.\n",
        "\n",
        "\n",
        "The code below creates a `trainList` and a `testList` list. It then copies the image paths from the original folders to these new lists such that 80% of the images go to the training set and 20% of the images go into the validation set."
      ]
    },
    {
      "cell_type": "code",
      "metadata": {
        "id": "Q-CK_BBQ1Yru",
        "colab_type": "code",
        "colab": {}
      },
      "source": [
        "let numTotalImages = [641, 699, 633, 799, 898]\n",
        "let numTrainImages = [512, 559, 506, 639, 718]  // Number of Train Images = 0.8 * Number of Total Images.\n",
        "var trainList = Python.list()\n",
        "var testList = Python.list()\n",
        "var i = 0, numImagesDone = 0\n",
        "\n",
        "for path in totalImages {\n",
        "    if numImagesDone == numTotalImages[i] {\n",
        "        i += 1\n",
        "        numImagesDone = 0\n",
        "    }\n",
        "    if numImagesDone >= numTrainImages[i] {\n",
        "        testList.append(path)\n",
        "        numImagesDone += 1\n",
        "    } else {\n",
        "        trainList.append(path)\n",
        "        numImagesDone += 1\n",
        "    }\n",
        "}\n",
        "\n",
        "for i in 0 ..< 5 {\n",
        "    np.random.shuffle(trainList)\n",
        "    np.random.shuffle(testList)\n",
        "}\n",
        "\n",
        "print(\"Total Images \\(totalImages.count)\")\n",
        "print(\"Train Images \\(trainList.count)\")\n",
        "print(\"Test Images \\(testList.count)\")"
      ],
      "execution_count": 0,
      "outputs": []
    },
    {
      "cell_type": "markdown",
      "metadata": {
        "id": "RW_oP9vd83AT",
        "colab_type": "text"
      },
      "source": [
        "### Visualizing Training images"
      ]
    },
    {
      "cell_type": "markdown",
      "metadata": {
        "id": "FoeLuQjY83nZ",
        "colab_type": "text"
      },
      "source": [
        "We can visualize our training images by creating functions to plot images through their paths or tensors, and then plotting a few of them."
      ]
    },
    {
      "cell_type": "code",
      "metadata": {
        "id": "wZaQBU0R6n-d",
        "colab_type": "code",
        "colab": {}
      },
      "source": [
        "func plotImages(_ image: Tensor<Float>) {\n",
        "    let numpyImage = image.makeNumpyArray().reshape(150, 150, 3)\n",
        "    plt.imshow(numpyImage)\n",
        "    plt.show()\n",
        "}\n",
        "\n",
        "func plotImages(fromPath path: String) {\n",
        "    let img = pil.Image.open(path)\n",
        "    let image = np.array(img) * (1.0 / 255)\n",
        "    plt.imshow(image)\n",
        "    plt.show()\n",
        "}"
      ],
      "execution_count": 0,
      "outputs": []
    },
    {
      "cell_type": "markdown",
      "metadata": {
        "id": "zazRWHDLne_x",
        "colab_type": "text"
      },
      "source": [
        "## TODO: Apply Data Augmentation"
      ]
    },
    {
      "cell_type": "markdown",
      "metadata": {
        "id": "FczZhOBEnhQA",
        "colab_type": "text"
      },
      "source": [
        "Overfitting often occurs when we have a small number of training examples. One way to fix this problem is to augment our dataset so that it has sufficient number and variety of training examples. Data augmentation takes the approach of generating more training data from existing training samples, by augmenting the samples through random transformations that yield believable-looking images. The goal is that at training time, your model will never see the exact same picture twice. This exposes the model to more aspects of the data, allowing it to generalize better.\n",
        "\n",
        "In Swift for TensorFlow we can implement this using the different Python libraries through Python interoperability. WWe can simply apply different transformations we would want to our dataset images and they will be applied during our training process."
      ]
    },
    {
      "cell_type": "markdown",
      "metadata": {
        "id": "On5jRhcfnisD",
        "colab_type": "text"
      },
      "source": [
        "We perform the following image augmentation techniques randomly on an image:\n",
        "\n",
        "* Rotating the image\n",
        "* Transposing\n",
        "* Flipping the image horizontally\n",
        "* Adding noise"
      ]
    },
    {
      "cell_type": "code",
      "metadata": {
        "id": "q9IsIJl5nk3L",
        "colab_type": "code",
        "colab": {}
      },
      "source": [
        "func augmentedImage(path: String) -> Tensor<Float> {\n",
        "    \n",
        "    var img = pil.Image.open(path)\n",
        "    \n",
        "    // Rotate 45 degrees.\n",
        "    if random.random() < 0.5 {\n",
        "        img =  \n",
        "    }\n",
        "    \n",
        "    // Transpose.\n",
        "    if random.random() < 0.5 {\n",
        "        img = \n",
        "    }\n",
        "    \n",
        "    // Flip.\n",
        "    if random.random() < 0.5 {\n",
        "        img = \n",
        "    }\n",
        "    \n",
        "    var image = np.array(img, dtype: np.float32) * (1.0 / 255)\n",
        "    \n",
        "    // Add noise.\n",
        "    if random.random() < 0.5 {\n",
        "        image =  \n",
        "    }\n",
        "    \n",
        "    image = np.array(image, dtype: np.float32)\n",
        "    \n",
        "    let imageTensor = Tensor<Float>(numpy: image)!\n",
        "\n",
        "    return imageTensor\n",
        "}"
      ],
      "execution_count": 0,
      "outputs": []
    },
    {
      "cell_type": "markdown",
      "metadata": {
        "id": "akDk2rmO70un",
        "colab_type": "text"
      },
      "source": [
        "# Data Preparation "
      ]
    },
    {
      "cell_type": "markdown",
      "metadata": {
        "id": "nQ7KrBqH71L0",
        "colab_type": "text"
      },
      "source": [
        "Images must be formatted into appropriately pre-processed floating point tensors before being fed into the network. The steps involved in preparing these images are:\n",
        "\n",
        "1. Read images from the disk.\n",
        "2. Decode the contents of these images into their RGB bytes.\n",
        "3. Convert them into floating point tensors.\n",
        "4. Rescale the tensors from values between 0 and 255 to values between 0 and 1, to better match the range expected by the initial neural network weights.\n",
        "5. Apply or don't apply image augmentation techniques, based on the type of data.\n",
        "\n",
        "We have done this in the following code."
      ]
    },
    {
      "cell_type": "markdown",
      "metadata": {
        "id": "aRAT9M538M82",
        "colab_type": "text"
      },
      "source": [
        "The `resizedImage(fromPath:augmented:)` function takes 2 inputs:\n",
        "1. Image path as input.\n",
        "2. Whether or not to apply image augmentations.\n",
        "\n",
        "The `images(fromList:imageCount:augmented:)` function takes 3 inputs :\n",
        "\n",
        "1. List of paths.\n",
        "\n",
        "2. Number of tensors to be produced in the output tensor as input.\n",
        "\n",
        "3. Whether or not to apply image augmentations."
      ]
    },
    {
      "cell_type": "code",
      "metadata": {
        "id": "1DC85ego6kmK",
        "colab_type": "code",
        "colab": {}
      },
      "source": [
        "func resizedImage(fromPath: String, augmented: Bool) -> (Tensor<Float>, Int32) {\n",
        "    var img = pil.Image.open(fromPath)\n",
        "    var image = np.array(img, dtype: np.float32) * (1.0 / 255)\n",
        "    var imageTensor = Tensor<Float>(numpy: image)!\n",
        "    \n",
        "    // Process image through Image Augmentation Techniques depending on the value of `ImageAugmentation: Bool`.\n",
        "    \n",
        "    var label: Int32 = 0\n",
        "    \n",
        "    // Decide label according to the path of image.\n",
        "    \n",
        "    return (imageTensor, label)\n",
        "}\n",
        "\n",
        "func images(fromList: PythonObject, imageCount: Int, augmented: Bool) -> (image: Tensor<Float>, label: Tensor<Int32>) {\n",
        "    let batchFiles = fromList[0..<imageCount]\n",
        "    var labels: [Int32] = []\n",
        "    var x: Tensor<Float>\n",
        "    var y: Tensor<Int32>\n",
        "\n",
        "    // Create Tensor Dataset using `resizedImage(fromPath:augmented:)` function.\n",
        "    \n",
        "    return (x, y)\n",
        "}"
      ],
      "execution_count": 0,
      "outputs": []
    },
    {
      "cell_type": "markdown",
      "metadata": {
        "id": "e7t-Xyds8dOm",
        "colab_type": "text"
      },
      "source": [
        "After defining our generators for images and labels, we will load those images and labels in tensor arrays, thereby creating our `testTensors`."
      ]
    },
    {
      "cell_type": "code",
      "metadata": {
        "id": "w9T1CsET6mVn",
        "colab_type": "code",
        "colab": {}
      },
      "source": [
        "let testTensors = \n",
        "let testImageTensors = testTensors.0\n",
        "let testLabelTensors = testTensors.1\n",
        "print(testImageTensors.shape)\n",
        "print(testLabelTensors.shape)"
      ],
      "execution_count": 0,
      "outputs": []
    },
    {
      "cell_type": "markdown",
      "metadata": {
        "id": "pyb5bsh_9Idt",
        "colab_type": "text"
      },
      "source": [
        "# Model Creation"
      ]
    },
    {
      "cell_type": "markdown",
      "metadata": {
        "id": "Mk5ikBiM9JA8",
        "colab_type": "text"
      },
      "source": [
        "## TODO: Create the CNN\n",
        "\n",
        "In the cell below, create a convolutional neural network that consists of 3 convolution blocks. Each convolutional block contains a `Conv2D` layer followed by a max pool layer. The first convolutional block should have 16 filters, the second one should have 32 filters, and the third one should have 64 filters. All convolutional filters should be 3 x 3. All max pool layers should have a `poolSize` of `(2, 2)`.\n",
        "\n",
        "After the 3 convolutional blocks you should have a flatten layer followed by a fully connected layer with 512 units. The CNN should output class probabilities based on 5 classes which is done by the **softmax** activation function. All other layers should use a **relu** activation function. You should also add Dropout layers with a probability of 20%, where appropriate. "
      ]
    },
    {
      "cell_type": "code",
      "metadata": {
        "id": "mPf9jf2p6rE-",
        "colab_type": "code",
        "colab": {}
      },
      "source": [
        "struct Classifier: Layer {\n",
        "    typealias Input = Tensor<Float>\n",
        "    typealias Output = Tensor<Float>\n",
        "    \n",
        "    @differentiable\n",
        "    public func callAsFunction(_ input: Input) -> Output {\n",
        "        \n",
        "    }\n",
        "}"
      ],
      "execution_count": 0,
      "outputs": []
    },
    {
      "cell_type": "markdown",
      "metadata": {
        "id": "o_3UQ6ef9N5b",
        "colab_type": "text"
      },
      "source": [
        "## TODO: Compile the model\n",
        "\n",
        "In the cell below, compile your model using the adam optimizer and sparse cross entropy function as a loss function. We would also like to look at the training and validation accuracy on each epoch as we train our network, so make sure you also pass the metrics argument."
      ]
    },
    {
      "cell_type": "code",
      "metadata": {
        "id": "MSNPc99r6s08",
        "colab_type": "code",
        "colab": {}
      },
      "source": [
        "let tensor = Tensor<Float>(zeros:[1, 150, 150, 3])\n",
        "var classifier = \n",
        "var optimizer = \n",
        "classifier(tensor).shape"
      ],
      "execution_count": 0,
      "outputs": []
    },
    {
      "cell_type": "markdown",
      "metadata": {
        "id": "8QW33ViVKFUT",
        "colab_type": "text"
      },
      "source": [
        "In the cell below, create a batchSize of 100 images and epochCount of 80."
      ]
    },
    {
      "cell_type": "code",
      "metadata": {
        "id": "zZ1o31qE6uGz",
        "colab_type": "code",
        "colab": {}
      },
      "source": [
        "let epochCount = \n",
        "let batchSize = \n",
        "\n",
        "// Extract a batch of size batchSize.\n",
        "func minibatch<Scalar>(in x: Tensor<Scalar>, at index: Int) -> Tensor<Scalar> {\n",
        "    \n",
        "}"
      ],
      "execution_count": 0,
      "outputs": []
    },
    {
      "cell_type": "code",
      "metadata": {
        "id": "C0YEIbAT-m3E",
        "colab_type": "code",
        "colab": {}
      },
      "source": [
        "var trainingAccuracy: [Float] = []\n",
        "var validationAccuracy: [Float] = []\n",
        "var trainingLoss: [Float] = []\n",
        "var validationLoss: [Float] = []\n",
        "var epochsRange: [Int] = []"
      ],
      "execution_count": 0,
      "outputs": []
    },
    {
      "cell_type": "markdown",
      "metadata": {
        "id": "UJvC4F3O9bTW",
        "colab_type": "text"
      },
      "source": [
        "## TODO: Train the model"
      ]
    },
    {
      "cell_type": "markdown",
      "metadata": {
        "id": "vuGBD1uY9bt6",
        "colab_type": "text"
      },
      "source": [
        "In the cell below, train your model using the ImageAugmentation function. We need to apply the random image augmentations every time an image is accessed, so we recreate `trainTensors` in every epoch. Train the model for 80 epochs and make sure you use the proper parameters.\n",
        "\n"
      ]
    },
    {
      "cell_type": "code",
      "metadata": {
        "id": "RY0hIJK36vnT",
        "colab_type": "code",
        "colab": {}
      },
      "source": [
        "print(\"Beginning training...\")\n",
        "\n",
        "struct Statistics {\n",
        "    var correctGuessCount: Int = 0\n",
        "    var totalGuessCount: Int = 0\n",
        "    var totalLoss: Float = 0\n",
        "}\n",
        "\n",
        "// The training loop.\n",
        "for epoch in 1...epochCount {\n",
        "    \n",
        "}"
      ],
      "execution_count": 0,
      "outputs": []
    },
    {
      "cell_type": "markdown",
      "metadata": {
        "id": "aRWzpR3q9ho6",
        "colab_type": "text"
      },
      "source": [
        "## TODO: Visualizing results of the training"
      ]
    },
    {
      "cell_type": "markdown",
      "metadata": {
        "id": "7zD0-Bvf9iD6",
        "colab_type": "text"
      },
      "source": [
        "In the cell below, plot the training and validation accuracy/loss graphs."
      ]
    },
    {
      "cell_type": "code",
      "metadata": {
        "id": "4h42Yr6O_3NR",
        "colab_type": "code",
        "colab": {}
      },
      "source": [
        "plt.figure(figsize: [12, 8])\n",
        "plt.subplot(1, 2, 1)\n",
        "plt.xlabel(\"\")\n",
        "plt.ylabel(\"Training Accuracy(l) vs Validation Accuracy(o)\")\n",
        "plt.plot()\n",
        "plt.plot()\n",
        "var loc = \"lower right\"\n",
        "plt.legend()\n",
        "plt.title(\"Training and Validation Accuracy\")\n",
        "\n",
        "plt.subplot(1, 2, 2)\n",
        "plt.xlabel(\"\")\n",
        "plt.ylabel(\"Training Loss(u) vs Validation Loss(p)\")\n",
        "plt.plot()\n",
        "plt.plot()\n",
        "loc = \"upper right\"\n",
        "plt.legend()\n",
        "plt.title(\"Training and Validation Loss\")\n",
        "plt.show()"
      ],
      "execution_count": 0,
      "outputs": []
    },
    {
      "cell_type": "markdown",
      "metadata": {
        "id": "-7czuzluPFbQ",
        "colab_type": "text"
      },
      "source": [
        "# TODO: Experiment with Different Parameters"
      ]
    },
    {
      "cell_type": "markdown",
      "metadata": {
        "id": "19NFkaUvPI4A",
        "colab_type": "text"
      },
      "source": [
        "So far you've created a CNN with 3 convolutional layers and followed by a fully connected layer with 512 units. In the cells below create a new CNN with a different architecture. Feel free to experiement by changing as many parameters as you like. For example, you can add more convolutional layers, or more fully connected layers. You can also experiement with different filter sizes in your convolutional layers, different number of units in your fully connected layers, different dropout rates, etc... You can also experiment by performing image aumentation with more image transformations that we have seen so far. For example, you can add shear transformations, or you can vary the brightness of the images, etc... Experiment as much as you can and compare the accuracy of your various models. Which parameters give you the best result?"
      ]
    }
  ]
}
