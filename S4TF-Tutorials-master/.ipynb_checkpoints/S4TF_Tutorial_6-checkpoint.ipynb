{
 "cells": [
  {
   "cell_type": "markdown",
   "metadata": {
    "colab_type": "text",
    "id": "ArYw4ah2WxvI"
   },
   "source": [
    "##### Copyright 2019 The TensorFlow Authors. [Licensed under the Apache License, Version 2.0](#scrollTo=y_UVSRtBBsJk)."
   ]
  },
  {
   "cell_type": "code",
   "execution_count": null,
   "metadata": {
    "colab": {},
    "colab_type": "code",
    "id": "bpE2F8WvXHHR"
   },
   "outputs": [],
   "source": [
    "#@title Licensed under the Apache License, Version 2.0 (the \"License\"); { display-mode: \"form\" }\n",
    "// Licensed under the Apache License, Version 2.0 (the \"License\");\n",
    "// you may not use this file except in compliance with the License.\n",
    "// You may obtain a copy of the License at\n",
    "//\n",
    "// https://www.apache.org/licenses/LICENSE-2.0\n",
    "//\n",
    "// Unless required by applicable law or agreed to in writing, software\n",
    "// distributed under the License is distributed on an \"AS IS\" BASIS,\n",
    "// WITHOUT WARRANTIES OR CONDITIONS OF ANY KIND, either express or implied.\n",
    "// See the License for the specific language governing permissions and\n",
    "// limitations under the License."
   ]
  },
  {
   "cell_type": "markdown",
   "metadata": {
    "colab_type": "text",
    "id": "A6S7MO1QXaVF"
   },
   "source": [
    "# Dogs vs Cats Image Classification With Image Augmentation"
   ]
  },
  {
   "cell_type": "markdown",
   "metadata": {
    "colab_type": "text",
    "id": "qI_zO-WyXbHT"
   },
   "source": [
    "<table class=\"tfo-notebook-buttons\" align=\"left\">\n",
    "  <td>\n",
    "    <a target=\"_blank\" href=\"https://colab.research.google.com/drive/148B0g-zaefmDTWxbEk1OiKGCEPojWwgz\"><img src=\"https://www.tensorflow.org/images/colab_logo_32px.png\" />Run in Google Colab</a>\n",
    "  </td>\n",
    "  <td>\n",
    "    <a target=\"_blank\" href=\"Link to be updated\"><img src=\"https://www.tensorflow.org/images/GitHub-Mark-32px.png\" />GitHub link to be updated accordingly</a>\n",
    "  </td>\n",
    "</table>"
   ]
  },
  {
   "cell_type": "markdown",
   "metadata": {
    "colab_type": "text",
    "id": "0gMKDv9AXtw4"
   },
   "source": [
    "\n",
    "\n",
    "In this tutorial, we will discuss how to classify images into pictures of cats or pictures of dogs. We'll build an image classifier using `Layer` and load data by creating training and validation tensors of images as well as their corresponding labels.\n",
    "\n",
    "## Specific concepts that will be covered:\n",
    "In the process, we will build practical experience and develop intuition around the following concepts:\n",
    "\n",
    "* Building _data input pipelines_  — How can we efficiently work with data on disk to interface with our model? \n",
    "* _Overfitting_ - what is it, how to identify it?\n",
    "* _Data Augmentation_ and _Dropout_ -  Key techniques to fight overfitting in computer vision tasks that we will incorporate into our data pipeline and image classifier model. \n",
    "\n",
    "## We will follow the general machine learning workflow:\n",
    "\n",
    "1. Examine and understand data\n",
    "2. Build an input pipeline \n",
    "3. Build our model\n",
    "4. Train our model\n",
    "5. Test our model\n",
    "6. Improve our model/Repeat the process\n",
    "\n",
    "<hr>\n",
    "\n",
    "\n",
    "**Before you begin**\n",
    "\n",
    "Before running the code in this notebook, reset the runtime by going to **Runtime -> Reset all runtimes** in the menu above. If you have been working through several notebooks, this will help you avoid reaching Colab's memory limits.\n",
    "\n"
   ]
  },
  {
   "cell_type": "markdown",
   "metadata": {
    "colab_type": "text",
    "id": "3feKokVXX72h"
   },
   "source": [
    "# Importing packages"
   ]
  },
  {
   "cell_type": "markdown",
   "metadata": {
    "colab_type": "text",
    "id": "ELd6snqWX8PB"
   },
   "source": [
    "Let's start by importing required packages:\n",
    "\n",
    "*   glob — to read files and directory structure.\n",
    "*   numpy — for some matrix math outside of TensorFlow.\n",
    "*   matplotlib.pyplot — to plot the graph and display images in our training and validation data.\n",
    "*  PIL — to view images."
   ]
  },
  {
   "cell_type": "code",
   "execution_count": 1,
   "metadata": {
    "colab": {},
    "colab_type": "code",
    "id": "KaGgOzPQbGj3"
   },
   "outputs": [
    {
     "name": "stdout",
     "output_type": "stream",
     "text": [
      "Fatal error: 'try!' expression unexpectedly raised an error: Python exception: No module named 'skimage': file /swift-base/swift/stdlib/public/Python/Python.swift, line 683\r\n",
      "Current stack trace:\r\n",
      "0    libswiftCore.so                    0x00007f60f1df2810 swift_reportError + 50\r\n",
      "1    libswiftCore.so                    0x00007f60f1e64180 _swift_stdlib_reportFatalErrorInFile + 115\r\n",
      "2    libswiftCore.so                    0x00007f60f1b6b5ee <unavailable> + 1471982\r\n",
      "3    libswiftCore.so                    0x00007f60f1b6b1f7 <unavailable> + 1470967\r\n",
      "4    libswiftCore.so                    0x00007f60f1b6b7d8 <unavailable> + 1472472\r\n",
      "5    libswiftCore.so                    0x00007f60f1b69a90 _assertionFailure(_:_:file:line:flags:) + 517\r\n",
      "6    libswiftCore.so                    0x00007f60f1b95ab6 <unavailable> + 1645238\r\n",
      "7    libswiftPython.so                  0x00007f60f291d7db <unavailable> + 67547\r\n"
     ]
    },
    {
     "ename": "",
     "evalue": "",
     "output_type": "error",
     "traceback": [
      "Current stack trace:",
      "\tframe #3: 0x00007f60f28e93ec $__lldb_expr13`main at <Cell 1>:15:17"
     ]
    }
   ],
   "source": [
    "import TensorFlow\n",
    "import Foundation\n",
    "import Python\n",
    "\n",
    "%include \"EnableIPythonDisplay.swift\"\n",
    "IPythonDisplay.shell.enable_matplotlib(\"inline\")\n",
    "let np = Python.import(\"numpy\")  // Make numpy available using np.\n",
    "let subprocess = Python.import(\"subprocess\")\n",
    "let plt = Python.import(\"matplotlib.pyplot\")\n",
    "let os = Python.import(\"os\")\n",
    "let glob = Python.import(\"glob\")\n",
    "let pil = Python.import(\"PIL\")\n",
    "let pilImageOps = Python.import(\"PIL.ImageOps\")\n",
    "let random = Python.import(\"random\")\n",
    "let sk = Python.import(\"skimage\")"
   ]
  },
  {
   "cell_type": "markdown",
   "metadata": {
    "colab_type": "text",
    "id": "VEIK0Qr6YpOw"
   },
   "source": [
    "To build our image classifier, we begin by downloading the dataset. The dataset we are using is a filtered version of the <a href=\"https://www.kaggle.com/c/dogs-vs-cats/data\" target=\"_blank\">Dogs vs. Cats</a> dataset from Kaggle (ultimately, this dataset is provided by Microsoft Research).\n",
    "\n",
    "In this Colab, we will make use of the `glob` and  `subprocess` module which will read data from disk. We therefore need to directly download *Dogs vs. Cats* from a URL and unzip it to the Colab filesystem."
   ]
  },
  {
   "cell_type": "code",
   "execution_count": null,
   "metadata": {
    "colab": {},
    "colab_type": "code",
    "id": "Lf_vvLoESGWf"
   },
   "outputs": [],
   "source": [
    "public extension String {\n",
    "    @discardableResult\n",
    "    func shell(_ args: String...) -> String {\n",
    "        let (task, pipe) = (Process(), Pipe())\n",
    "        task.executableURL = URL(fileURLWithPath: self)\n",
    "        (task.arguments, task.standardOutput) = (args, pipe)\n",
    "        do    { try task.run() }\n",
    "        catch { print(\"Unexpected error: \\(error).\") }\n",
    "\n",
    "        let data = pipe.fileHandleForReading.readDataToEndOfFile()\n",
    "        return String(data: data, encoding: String.Encoding.utf8) ?? \"\"\n",
    "    }\n",
    "}"
   ]
  },
  {
   "cell_type": "code",
   "execution_count": null,
   "metadata": {
    "colab": {
     "base_uri": "https://localhost:8080/",
     "height": 68
    },
    "colab_type": "code",
    "id": "L7SwG2Ny9JHd",
    "outputId": "4b96310c-4188-4d0a-df8b-01eeacabe279"
   },
   "outputs": [],
   "source": [
    "print(\"/bin/ls\".shell(\"-lh\"))"
   ]
  },
  {
   "cell_type": "markdown",
   "metadata": {
    "colab_type": "text",
    "id": "AZT6cUMweBCr"
   },
   "source": [
    "We'll now download and unzip the dataset using the `subprocess` library via Python interoperability."
   ]
  },
  {
   "cell_type": "code",
   "execution_count": null,
   "metadata": {
    "colab": {
     "base_uri": "https://localhost:8080/",
     "height": 274
    },
    "colab_type": "code",
    "id": "TpyLNoo3RDIQ",
    "outputId": "9a3e2e1b-cb03-4ff5-d1c5-6f8065406bcd"
   },
   "outputs": [],
   "source": [
    "let command = \"wget -nv -O- https://github.com/Ayush517/S4TF-Tutorials/raw/master/cats_and_dogs_filtered.tar.gz | tar xzf - -C .\"\n",
    "subprocess.call(command, shell: true)"
   ]
  },
  {
   "cell_type": "markdown",
   "metadata": {
    "colab_type": "text",
    "id": "eM2tdEkVZGux"
   },
   "source": [
    "The dataset we have downloaded has the following directory structure:\n",
    "\n",
    "<pre style=\"font-size: 10.0pt; font-family: Arial; line-height: 2; letter-spacing: 1.0pt;\" >\n",
    "<b>cats_and_dogs_filtered</b>\n",
    "|__ <b>train</b>\n",
    "    |______ <b>cats</b>: [cat.0.jpg, cat.1.jpg, cat.2.jpg ...]\n",
    "    |______ <b>dogs</b>: [dog.0.jpg, dog.1.jpg, dog.2.jpg ...]\n",
    "|__ <b>validation</b>\n",
    "    |______ <b>cats</b>: [cat.2000.jpg, cat.2001.jpg, cat.2002.jpg ...]\n",
    "    |______ <b>dogs</b>: [dog.2000.jpg, dog.2001.jpg, dog.2002.jpg ...]\n",
    "</pre>\n",
    "\n",
    "We can list the directories with the following terminal command:"
   ]
  },
  {
   "cell_type": "code",
   "execution_count": null,
   "metadata": {
    "colab": {
     "base_uri": "https://localhost:8080/",
     "height": 85
    },
    "colab_type": "code",
    "id": "tvl9Lnce8H_2",
    "outputId": "768257a1-820d-4b3a-d1a6-807001ee0be3"
   },
   "outputs": [],
   "source": [
    "print(\"/bin/ls/\".shell(\"-lh\"))"
   ]
  },
  {
   "cell_type": "markdown",
   "metadata": {
    "colab_type": "text",
    "id": "yIEL_bnxZN6X"
   },
   "source": [
    "### Understanding our data"
   ]
  },
  {
   "cell_type": "markdown",
   "metadata": {
    "colab_type": "text",
    "id": "dqxHwJADZKVw"
   },
   "source": [
    "We'll now assign variables with the proper file path for the training and validation sets."
   ]
  },
  {
   "cell_type": "code",
   "execution_count": null,
   "metadata": {
    "colab": {},
    "colab_type": "code",
    "id": "XXJjUDBOTNf4"
   },
   "outputs": [],
   "source": [
    "let catTrainList = glob.glob(\"cats_and_dogs_filtered/train/cats/*.jpg\")\n",
    "let dogTrainList = glob.glob(\"cats_and_dogs_filtered/train/dogs/*.jpg\")\n",
    "let trainList = glob.glob(\"cats_and_dogs_filtered/train/**/*.jpg\")\n",
    "\n",
    "let catTestList  = glob.glob(\"cats_and_dogs_filtered/validation/cats/*.jpg\")\n",
    "let dogTestList  = glob.glob(\"cats_and_dogs_filtered/validation/dogs/*.jpg\")\n",
    "let testList  = glob.glob(\"cats_and_dogs_filtered/validation/**/*.jpg\")\n",
    "\n",
    "for i in 0 ..< 5 {\n",
    "    np.random.shuffle(trainList)\n",
    "    np.random.shuffle(testList)\n",
    "}"
   ]
  },
  {
   "cell_type": "markdown",
   "metadata": {
    "colab_type": "text",
    "id": "0v-OItU3ZOOO"
   },
   "source": [
    "Let's look at how many cats and dogs images we have in our training and validation directory:"
   ]
  },
  {
   "cell_type": "code",
   "execution_count": null,
   "metadata": {
    "colab": {
     "base_uri": "https://localhost:8080/",
     "height": 153
    },
    "colab_type": "code",
    "id": "9pZdnDMKiybF",
    "outputId": "467a97a5-3ffe-44b5-f65d-4ed3cb588898"
   },
   "outputs": [],
   "source": [
    "print(\"total training cat images: \\(catTrainList.count)\")\n",
    "print(\"total training dog images: \\(dogTrainList.count)\")\n",
    "\n",
    "print(\"total validation cat images: \\(catTestList.count)\")\n",
    "print(\"total validation dog images: \\(dogTestList.count)\")\n",
    "print(\"--\")\n",
    "print(\"Total training images: \\(trainList.count)\")\n",
    "print(\"Total validation images: \\(testList.count)\")\n",
    "\n",
    "print(Python.type(trainList))"
   ]
  },
  {
   "cell_type": "markdown",
   "metadata": {
    "colab_type": "text",
    "id": "B1RxO8dzdF2g"
   },
   "source": [
    "### Visualizing Training images"
   ]
  },
  {
   "cell_type": "markdown",
   "metadata": {
    "colab_type": "text",
    "id": "CFz4nx1LdGTZ"
   },
   "source": [
    "We can visualize our training images by creating functions to plot images through their paths or tensors, and then plotting a few of them."
   ]
  },
  {
   "cell_type": "code",
   "execution_count": null,
   "metadata": {
    "colab": {},
    "colab_type": "code",
    "id": "fCKdKItfmlep"
   },
   "outputs": [],
   "source": [
    "func plotImages(_ image: Tensor<Float>) {\n",
    "    let numpyImage = image.reshaped(to: [150, 150, 3]).makeNumpyArray()\n",
    "    plt.imshow(numpyImage)\n",
    "    plt.show()\n",
    "}\n",
    "\n",
    "func plotImages(fromPath path: String) {\n",
    "    let img = pil.Image.open(path)\n",
    "    let image = np.array(img) * (1.0 / 255)\n",
    "    plt.imshow(image)\n",
    "    plt.show()\n",
    "}"
   ]
  },
  {
   "cell_type": "markdown",
   "metadata": {
    "colab_type": "text",
    "id": "sZRtJODkfxgf"
   },
   "source": [
    "# Data Augmentation"
   ]
  },
  {
   "cell_type": "markdown",
   "metadata": {
    "colab_type": "text",
    "id": "BpIp5hzAfx9P"
   },
   "source": [
    "Overfitting often occurs when we have a small number of training examples. One way to fix this problem is to augment our dataset so that it has sufficient number and variety of training examples. Data augmentation takes the approach of generating more training data from existing training samples, by augmenting the samples through random transformations that yield believable-looking images. The goal is that at training time, your model will never see the exact same picture twice. This exposes the model to more aspects of the data, allowing it to generalize better.\n",
    "\n",
    "In Swift for TensorFlow we can implement this using the different Python libraries through Python interoperability. We can simply apply different transformations we would want to our dataset images and they will be applied during our training process."
   ]
  },
  {
   "cell_type": "markdown",
   "metadata": {
    "colab_type": "text",
    "id": "CnMOZA_BgREI"
   },
   "source": [
    "We perform the following image augmentation techniques randomly on an image:\n",
    "\n",
    "* Rotating the image\n",
    "* Transposing\n",
    "* Cropping\n",
    "* Flipping the image horizontally\n",
    "* Adding border to image\n",
    "* Adding noise"
   ]
  },
  {
   "cell_type": "code",
   "execution_count": null,
   "metadata": {
    "colab": {},
    "colab_type": "code",
    "id": "QE-K4a2Ql8tx"
   },
   "outputs": [],
   "source": [
    "func augmentedImage(path: String) -> Tensor<Float> {\n",
    "    \n",
    "    var img = pil.Image.open(path)\n",
    "    \n",
    "    if random.random() < 0.5 {\n",
    "        img = img.rotate(45) // Rotate 45 degrees.\n",
    "    }\n",
    "    \n",
    "    if random.random() < 0.5 {\n",
    "        img = img.transpose(pil.Image.TRANSPOSE) // Transpose.\n",
    "    }\n",
    "    \n",
    "    if random.random() < 0.5 {\n",
    "        let h = Float(img.size[0])! / 4\n",
    "        let w = Float(img.size[1])! / 4\n",
    "        let cropBorder = Int(Python.min(h, w))\n",
    "        img = pilImageOps.crop(img,  cropBorder) // Crop by half of shorter sides.\n",
    "    }\n",
    "    \n",
    "    if random.random() < 0.5 {\n",
    "        img = img.transpose(pil.Image.FLIP_LEFT_RIGHT) // Flip.\n",
    "    }\n",
    "    \n",
    "    if random.random() < 0.5 {\n",
    "        let h = Float(img.size[0])! / 10\n",
    "        let w = Float(img.size[1])! / 10\n",
    "        let borderSize = Int(Python.min(h, w))\n",
    "        img = pilImageOps.expand(img, borderSize) // Add border.\n",
    "    }\n",
    "    \n",
    "    var image = np.array(img, dtype: np.float32) * (1.0 / 255)\n",
    "    \n",
    "    if random.random() < 0.5 {\n",
    "        image = sk.util.random_noise(image) // Add noise.\n",
    "    }\n",
    "    \n",
    "    image = np.array(image, dtype: np.float32)\n",
    "    \n",
    "    let imageTensor = Tensor<Float>(numpy: image)!\n",
    "\n",
    "    return imageTensor\n",
    "}"
   ]
  },
  {
   "cell_type": "markdown",
   "metadata": {
    "colab_type": "text",
    "id": "vl6vw_AcZd54"
   },
   "source": [
    "# Data Preparation "
   ]
  },
  {
   "cell_type": "markdown",
   "metadata": {
    "colab_type": "text",
    "id": "IQ3OILUgZeqb"
   },
   "source": [
    "Images must be formatted into appropriately pre-processed floating point tensors before being fed into the network. The steps involved in preparing these images are:\n",
    "\n",
    "1. Read images from the disk.\n",
    "2. Decode the contents of these images into their RGB bytes.\n",
    "3. Convert them into floating point tensors.\n",
    "4. Rescale the tensors from values between 0 and 255 to values between 0 and 1, to better match the range expected by the initial neural network weights.\n",
    "5. Apply or don't apply image augmentation techniques, based on the type of data.\n",
    "\n",
    "We have done this in the following code."
   ]
  },
  {
   "cell_type": "markdown",
   "metadata": {
    "colab_type": "text",
    "id": "0FyESvV0ZjhJ"
   },
   "source": [
    "The `resizedImage(fromPath:augmented:)` function takes 2 inputs:\n",
    "1. Image path as input.\n",
    "2. Whether or not to apply image augmentations.\n",
    "\n",
    "The `images(fromList:imageCount:augmented:)` function takes 3 inputs :\n",
    "\n",
    "1. List of paths.\n",
    "\n",
    "2. Number of tensors to be produced in the output tensor as input.\n",
    "\n",
    "3. Whether or not to apply image augmentations."
   ]
  },
  {
   "cell_type": "code",
   "execution_count": null,
   "metadata": {
    "colab": {},
    "colab_type": "code",
    "id": "3JihjHwPi2Ch"
   },
   "outputs": [],
   "source": [
    "func resizedImage(fromPath: String, augmented: Bool) -> (Tensor<Float>, Int32) {\n",
    "    var img = pil.Image.open(fromPath)\n",
    "    var image = np.array(img, dtype: np.float32) * (1.0 / 255)\n",
    "    var imageTensor = Tensor<Float>(numpy: image)!\n",
    "    \n",
    "    if augmented {\n",
    "        imageTensor = augmentedImage(path: fromPath)\n",
    "    }\n",
    "    \n",
    "    imageTensor = imageTensor.expandingShape(at: 0)\n",
    "    imageTensor = Raw.resizeArea(images: imageTensor , size: [150, 150])\n",
    "    \n",
    "    let label: Int32 = fromPath.contains(\"dog.\") ? 0 : 1\n",
    "    \n",
    "    return (imageTensor, label)\n",
    "}\n",
    "\n",
    "func images(fromList: PythonObject, imageCount: Int, augmented: Bool) -> (image: Tensor<Float>, label: Tensor<Int32>) {\n",
    "    let batchFiles = fromList[0..<imageCount]\n",
    "    var labels: [Int32] = []\n",
    "    var x: Tensor<Float>\n",
    "    var y: Tensor<Int32>\n",
    "\n",
    "    // Load first image.\n",
    "    let path = String(batchFiles[0]) ?? \"\"\n",
    "    let data = resizedImage(fromPath: path, augmented: augmented)\n",
    "    x = data.0 \n",
    "    labels.append(data.1)\n",
    "\n",
    "    // Load rest of the images.\n",
    "    var numberOfFilesDone = 1\n",
    "    for file in batchFiles[1..<imageCount] {\n",
    "        let path = String(file) ?? \"\"\n",
    "        let data = resizedImage(fromPath: path, augmented: augmented)\n",
    "        let tensor = data.0\n",
    "        labels.append(data.1)\n",
    "        x = Tensor(concatenating: [x, tensor], alongAxis: 0)\n",
    "    }\n",
    "    y = Tensor<Int32>(labels)\n",
    "    return (x, y)\n",
    "}"
   ]
  },
  {
   "cell_type": "markdown",
   "metadata": {
    "colab_type": "text",
    "id": "7m427NXlc7Xw"
   },
   "source": [
    "After defining our generators for images and labels, we will load those images and labels in tensor arrays, thereby creating our `testTensors`."
   ]
  },
  {
   "cell_type": "code",
   "execution_count": null,
   "metadata": {
    "colab": {
     "base_uri": "https://localhost:8080/",
     "height": 51
    },
    "colab_type": "code",
    "id": "Xd8WDjGSBZYb",
    "outputId": "34c04a8b-1a0e-487c-f630-51a3a42ff805"
   },
   "outputs": [],
   "source": [
    "let testTensors = images(fromList: testList, imageCount: testList.count, augmented: false)\n",
    "let testImageTensors = testTensors.0\n",
    "let testLabelTensors = testTensors.1\n",
    "print(testImageTensors.shape)\n",
    "print(testLabelTensors.shape)"
   ]
  },
  {
   "cell_type": "markdown",
   "metadata": {
    "colab_type": "text",
    "id": "oxjqzqP3doZn"
   },
   "source": [
    "# Model Creation"
   ]
  },
  {
   "cell_type": "markdown",
   "metadata": {
    "colab_type": "text",
    "id": "Ye4j5sK9douT"
   },
   "source": [
    "The model consists of four convolution blocks with a max pool layer in each of them.\n",
    "\n",
    "Before the final Dense layers, we're also applying a Dropout probability of 0.5. This mean that 50% of the values coming into the Dropout layer will be set to zero. This helps to prevent overfitting.\n",
    "\n",
    "Then we have a fully connected layer with 512 units, with a `relu` activation function. The model will output class probabilities for two classes — dogs and cats — using `softmax`. "
   ]
  },
  {
   "cell_type": "code",
   "execution_count": null,
   "metadata": {
    "colab": {},
    "colab_type": "code",
    "id": "QmaeXuZQUx2k"
   },
   "outputs": [],
   "source": [
    "struct Classifier: Layer {\n",
    "    typealias Input = Tensor<Float>\n",
    "    typealias Output = Tensor<Float>\n",
    "\n",
    "    var conv1a = Conv2D<Float>(filterShape: (3, 3, 3, 32), activation: relu)\n",
    "    var pool1 = MaxPool2D<Float>(poolSize: (2, 2), strides: (2, 2))\n",
    "    \n",
    "    var conv1b = Conv2D<Float>(filterShape: (3, 3, 32, 64), activation: relu)\n",
    "    var pool2 = MaxPool2D<Float>(poolSize: (2, 2), strides: (2, 2))\n",
    "    \n",
    "    var conv1c = Conv2D<Float>(filterShape: (3, 3, 64, 128), activation: relu)\n",
    "    var pool3 = MaxPool2D<Float>(poolSize: (2, 2), strides: (2, 2))\n",
    "    \n",
    "    var conv1d = Conv2D<Float>(filterShape: (3, 3, 128, 128), activation: relu)\n",
    "    var pool4 = MaxPool2D<Float>(poolSize: (2, 2), strides: (2, 2))\n",
    "    \n",
    "    var dropout1a = Dropout<Float>(probability: 0.5)\n",
    "    var flatten = Flatten<Float>()\n",
    "    var layer1a = Dense<Float>(inputSize: 6272, outputSize: 512, activation: relu)\n",
    "    var layer1b = Dense<Float>(inputSize: 512, outputSize: 2, activation: softmax)\n",
    "\n",
    "    @differentiable\n",
    "    public func callAsFunction(_ input: Input) -> Output {\n",
    "        var convolved1 = input.sequenced(through: conv1a, pool1)\n",
    "        var convolved2 = convolved1.sequenced(through: conv1b, pool2)\n",
    "        var convolved3 = convolved2.sequenced(through: conv1c, pool3)\n",
    "        var convolved4 = convolved3.sequenced(through: conv1d, pool4)\n",
    "        return convolved4.sequenced(through: dropout1a, flatten, layer1a, layer1b)\n",
    "    }\n",
    "}"
   ]
  },
  {
   "cell_type": "markdown",
   "metadata": {
    "colab_type": "text",
    "id": "mE4Fv2cwdsWz"
   },
   "source": [
    "### Compile the model\n",
    "\n",
    "As usual, we will use the `adam` optimizer. Since we output a softmax categorization, we'll use `softmaxCrossEntropy` as the loss function. We would also like to look at the training and validation accuracy on each epoch as we train our network, so we are passing in the metrics argument."
   ]
  },
  {
   "cell_type": "code",
   "execution_count": null,
   "metadata": {
    "colab": {
     "base_uri": "https://localhost:8080/",
     "height": 85
    },
    "colab_type": "code",
    "id": "nsPxQTvwYmy8",
    "outputId": "4aed1df7-2260-476d-d894-9c23fbf4899d"
   },
   "outputs": [],
   "source": [
    "let tensor = Tensor<Float>(zeros: [1, 150, 150, 3])\n",
    "var classifier = Classifier()\n",
    "var optimizer = Adam(for: classifier)\n",
    "classifier(tensor).shape"
   ]
  },
  {
   "cell_type": "code",
   "execution_count": null,
   "metadata": {
    "colab": {},
    "colab_type": "code",
    "id": "fikBuWi3_a9z"
   },
   "outputs": [],
   "source": [
    "let epochCount = 100\n",
    "let batchSize = 100\n",
    "\n",
    "// Extract a batch of size batchSize.\n",
    "func minibatch<Scalar>(in x: Tensor<Scalar>, at index: Int) -> Tensor<Scalar> {\n",
    "    let start = index * batchSize\n",
    "    return x[start..<start + batchSize]\n",
    "}"
   ]
  },
  {
   "cell_type": "code",
   "execution_count": null,
   "metadata": {
    "colab": {},
    "colab_type": "code",
    "id": "g6oZ-9RKjGM2"
   },
   "outputs": [],
   "source": [
    "var trainingAccuracy: [Float] = []\n",
    "var validationAccuracy: [Float] = []\n",
    "var trainingLoss: [Float] = []\n",
    "var validationLoss: [Float] = []\n",
    "var epochsRange: [Int] = []"
   ]
  },
  {
   "cell_type": "markdown",
   "metadata": {
    "colab_type": "text",
    "id": "fq7RgKWbeaGZ"
   },
   "source": [
    "### Train the model"
   ]
  },
  {
   "cell_type": "markdown",
   "metadata": {
    "colab_type": "text",
    "id": "F2xgoa_Aeai6"
   },
   "source": [
    "It's time to train our network. \n",
    "\n",
    " We need to apply the random image augmentations every time an image is accessed, so we recreate `trainTensors` in every epoch."
   ]
  },
  {
   "cell_type": "code",
   "execution_count": null,
   "metadata": {
    "colab": {
     "base_uri": "https://localhost:8080/",
     "height": 1000
    },
    "colab_type": "code",
    "id": "lJaSgWCgs90t",
    "outputId": "16001e2c-8cc9-42af-ec44-237a341c9026"
   },
   "outputs": [],
   "source": [
    "print(\"Beginning training...\")\n",
    "\n",
    "struct Statistics {\n",
    "    var correctGuessCount: Int = 0\n",
    "    var totalGuessCount: Int = 0\n",
    "    var totalLoss: Float = 0\n",
    "}\n",
    "\n",
    "// The training loop.\n",
    "for epoch in 1...epochCount {\n",
    "    epochsRange.append(epoch)\n",
    "    var trainStats = Statistics()\n",
    "    var testStats = Statistics()\n",
    "    print(\"Creating Training Dataset for Epoch \\(epoch)\")\n",
    "    let trainTensors = images(fromList: trainList, imageCount: trainList.count, augmented: true)\n",
    "    let trainImageTensors = trainTensors.0\n",
    "    let trainLabelTensors = trainTensors.1\n",
    "    print(\"Dataset Creation Completed\")\n",
    "    \n",
    "    Context.local.learningPhase = .training\n",
    "    for i in 0..<Int(trainList.count) / batchSize {\n",
    "        let x = minibatch(in: trainImageTensors, at: i)\n",
    "        let y = minibatch(in: trainLabelTensors, at: i)\n",
    "        // Compute the gradient with respect to the model.\n",
    "        let 𝛁model = classifier.gradient { classifier -> Tensor<Float> in\n",
    "            let ŷ = classifier(x)\n",
    "            let correctPredictions = ŷ.argmax(squeezingAxis: 1) .== y\n",
    "            trainStats.correctGuessCount += Int(\n",
    "              Tensor<Int32>(correctPredictions).sum().scalarized())\n",
    "            trainStats.totalGuessCount += batchSize\n",
    "            let loss = softmaxCrossEntropy(logits: ŷ, labels: y)\n",
    "            trainStats.totalLoss += loss.scalarized()\n",
    "            return loss\n",
    "        }\n",
    "        // Update the model's differentiable variables along the gradient vector.\n",
    "        optimizer.update(&classifier.allDifferentiableVariables, along: 𝛁model)\n",
    "    }\n",
    "\n",
    "    Context.local.learningPhase = .inference\n",
    "    for i in 0..<Int(testList.count) / batchSize {\n",
    "        let x = minibatch(in: testImageTensors, at: i)\n",
    "        let y = minibatch(in: testLabelTensors, at: i)\n",
    "        // Compute loss on test set.\n",
    "        let ŷ = classifier(x)\n",
    "        let correctPredictions = ŷ.argmax(squeezingAxis: 1) .== y\n",
    "        testStats.correctGuessCount += Int(Tensor<Int32>(correctPredictions).sum().scalarized())\n",
    "        testStats.totalGuessCount += batchSize\n",
    "        let loss = softmaxCrossEntropy(logits: ŷ, labels: y)\n",
    "        testStats.totalLoss += loss.scalarized()\n",
    "    }\n",
    "    \n",
    "    let trainAccuracy = Float(trainStats.correctGuessCount) / Float(trainStats.totalGuessCount)\n",
    "    let testAccuracy = Float(testStats.correctGuessCount) / Float(testStats.totalGuessCount)\n",
    "    \n",
    "    trainingAccuracy.append(trainAccuracy)\n",
    "    validationAccuracy.append(testAccuracy)\n",
    "    trainingLoss.append(trainStats.totalLoss)\n",
    "    validationLoss.append(testStats.totalLoss)\n",
    "    \n",
    "    print(\"\"\"\n",
    "          [Epoch \\(epoch)] \\\n",
    "          Training Loss: \\(trainStats.totalLoss), \\\n",
    "          Training Accuracy: \\(trainStats.correctGuessCount)/\\(trainStats.totalGuessCount) \\ \n",
    "          (\\(trainAccuracy)), \\\n",
    "          Test Loss: \\(testStats.totalLoss), \\\n",
    "          Test Accuracy: \\(testStats.correctGuessCount)/\\(testStats.totalGuessCount) \\\n",
    "          (\\(testAccuracy))\n",
    "          \"\"\")\n",
    "}"
   ]
  },
  {
   "cell_type": "markdown",
   "metadata": {
    "colab_type": "text",
    "id": "8K2cWGKwe5hz"
   },
   "source": [
    "### Visualizing results of the training"
   ]
  },
  {
   "cell_type": "markdown",
   "metadata": {
    "colab_type": "text",
    "id": "W-YeHX65e6l0"
   },
   "source": [
    "We'll now visualize the results we get after training our network."
   ]
  },
  {
   "cell_type": "code",
   "execution_count": null,
   "metadata": {
    "colab": {
     "base_uri": "https://localhost:8080/",
     "height": 553
    },
    "colab_type": "code",
    "id": "nmqhLD0UjLLo",
    "outputId": "a8782a67-4e25-4fdd-aedf-c1dff3c7edf6"
   },
   "outputs": [],
   "source": [
    "plt.figure(figsize: [12, 8])\n",
    "plt.subplot(1, 2, 1)\n",
    "plt.xlabel(\"Number of Epochs\")\n",
    "plt.ylabel(\"Training Accuracy(l) vs Validation Accuracy(o)\")\n",
    "plt.plot(epochsRange, trainingAccuracy)\n",
    "plt.plot(epochsRange, validationAccuracy)\n",
    "var loc = \"lower right\"\n",
    "plt.legend(loc)\n",
    "plt.title(\"Training and Validation Accuracy\")\n",
    "\n",
    "plt.subplot(1, 2, 2)\n",
    "plt.xlabel(\"Number of Epochs\")\n",
    "plt.ylabel(\"Training Loss(u) vs Validation Loss(p)\")\n",
    "plt.plot(epochsRange, trainingLoss)\n",
    "plt.plot(epochsRange, validationLoss)\n",
    "loc = \"upper right\"\n",
    "plt.legend(loc)\n",
    "plt.title(\"Training and Validation Loss\")\n",
    "plt.show()"
   ]
  },
  {
   "cell_type": "markdown",
   "metadata": {
    "colab_type": "text",
    "id": "IV4iitDGbroi"
   },
   "source": [
    "As we can see from the plots, training accuracy and validation accuracy are off by a much smaller margin than what we saw in Tutorial 5 and our model has achieved around **73%** accuracy on the validation set with a training accuracy of **78%** (depending on the number of epochs you trained for).\n",
    "\n",
    "This is a clear indication that we have prevented overfitting by performing image augmentation techniques on our training images."
   ]
  }
 ],
 "metadata": {
  "accelerator": "GPU",
  "colab": {
   "collapsed_sections": [],
   "name": "S4TF Tutorial 6",
   "provenance": [],
   "version": "0.3.2"
  },
  "kernelspec": {
   "display_name": "Swift",
   "language": "swift",
   "name": "swift"
  },
  "language_info": {
   "file_extension": ".swift",
   "mimetype": "text/x-swift",
   "name": "swift",
   "version": ""
  }
 },
 "nbformat": 4,
 "nbformat_minor": 1
}
