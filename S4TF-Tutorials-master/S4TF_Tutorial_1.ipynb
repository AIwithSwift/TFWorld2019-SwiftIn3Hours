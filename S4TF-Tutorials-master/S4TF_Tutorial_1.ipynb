{
  "nbformat": 4,
  "nbformat_minor": 0,
  "metadata": {
    "colab": {
      "name": "S4TF Tutorial 1",
      "version": "0.3.2",
      "provenance": [],
      "collapsed_sections": []
    },
    "language_info": {
      "file_extension": ".swift",
      "mimetype": "text/x-swift",
      "name": "swift",
      "version": ""
    },
    "kernelspec": {
      "display_name": "Swift",
      "language": "swift",
      "name": "swift"
    },
    "accelerator": "GPU"
  },
  "cells": [
    {
      "cell_type": "markdown",
      "metadata": {
        "colab_type": "text",
        "id": "QyCcF45zBQ3E"
      },
      "source": [
        "##### Copyright 2019 The TensorFlow Authors. [Licensed under the Apache License, Version 2.0](#scrollTo=y_UVSRtBBsJk)."
      ]
    },
    {
      "cell_type": "code",
      "metadata": {
        "colab_type": "code",
        "id": "CPII1rGR2rF9",
        "scrolled": true,
        "colab": {}
      },
      "source": [
        "#@title Licensed under the Apache License, Version 2.0 (the \"License\"); { display-mode: \"form\" }\n",
        "// Licensed under the Apache License, Version 2.0 (the \"License\");\n",
        "// you may not use this file except in compliance with the License.\n",
        "// You may obtain a copy of the License at\n",
        "//\n",
        "// https://www.apache.org/licenses/LICENSE-2.0\n",
        "//\n",
        "// Unless required by applicable law or agreed to in writing, software\n",
        "// distributed under the License is distributed on an \"AS IS\" BASIS,\n",
        "// WITHOUT WARRANTIES OR CONDITIONS OF ANY KIND, either express or implied.\n",
        "// See the License for the specific language governing permissions and\n",
        "// limitations under the License."
      ],
      "execution_count": 0,
      "outputs": []
    },
    {
      "cell_type": "markdown",
      "metadata": {
        "colab_type": "text",
        "id": "YHI3vyhv5p85"
      },
      "source": [
        "## **Introduction to Colab and Swift**"
      ]
    },
    {
      "cell_type": "markdown",
      "metadata": {
        "colab_type": "text",
        "id": "OVi775ZJ2bsy"
      },
      "source": [
        "<table class=\"tfo-notebook-buttons\" align=\"left\">\n",
        "  <td>\n",
        "    <a target=\"_blank\" href=\"https://colab.research.google.com/drive/119Cn14ku8ksgaRNKF1zI3z9UiKfnYrP2\"><img src=\"https://www.tensorflow.org/images/colab_logo_32px.png\" />Run in Google Colab</a>\n",
        "  </td>\n",
        "  <td>\n",
        "    <a target=\"_blank\" href=\"Link to be updated\"><img src=\"https://www.tensorflow.org/images/GitHub-Mark-32px.png\" />GitHub link to be updated accordingly</a>\n",
        "  </td>\n",
        "</table>"
      ]
    },
    {
      "cell_type": "markdown",
      "metadata": {
        "colab_type": "text",
        "id": "F8YVA_634OFk"
      },
      "source": [
        "Welcome to this notebook where you will get a quick introduction to the Swift programming language and the environment used for the course's exercises: Colab.\n",
        "\n",
        "Colab is a Python + Swift development environment that runs in the browser using Google Cloud. \n",
        "\n",
        "For example, to print \"Hello World\", just hover the mouse over [  ] and press the play button to the upper left. Or press shift-enter to execute."
      ]
    },
    {
      "cell_type": "code",
      "metadata": {
        "id": "KaGgOzPQbGj3",
        "colab_type": "code",
        "colab": {}
      },
      "source": [
        "import TensorFlow\n",
        "\n",
        "import Python"
      ],
      "execution_count": 0,
      "outputs": []
    },
    {
      "cell_type": "code",
      "metadata": {
        "id": "Q_XrcNGNbejX",
        "colab_type": "code",
        "outputId": "6ed961fa-fed1-40e1-a721-62429bf6085f",
        "colab": {
          "base_uri": "https://localhost:8080/",
          "height": 34
        }
      },
      "source": [
        "print(\"Hello, world!\")"
      ],
      "execution_count": 3,
      "outputs": [
        {
          "output_type": "stream",
          "text": [
            "Hello, world!\r\n"
          ],
          "name": "stdout"
        }
      ]
    },
    {
      "cell_type": "markdown",
      "metadata": {
        "colab_type": "text",
        "id": "wwJGmDrQ0EoB"
      },
      "source": [
        "## Functions, Conditionals, and Iteration\n",
        "Let's create a Swift function, and call it from a loop."
      ]
    },
    {
      "cell_type": "code",
      "metadata": {
        "id": "VNF9rry4biBh",
        "colab_type": "code",
        "outputId": "c2ae5954-8941-4dc9-d5a8-1e2ba554cde6",
        "colab": {
          "base_uri": "https://localhost:8080/",
          "height": 221
        }
      },
      "source": [
        "func helloWorld(x: Int, y: Int) -> Int {\n",
        "    if x < 10 {\n",
        "        print(\"Hello World, x was < 10\")\n",
        "    } else if x < 20 {\n",
        "        print(\"Hello World, x was >= 10 but < 20\")\n",
        "    } else {\n",
        "        print(\"Hello World, x was >= 20\")\n",
        "    }\n",
        "  return x + y\n",
        "}\n",
        "\n",
        "for i in stride(from: 8, to: 25, by: 5) {\n",
        "    print(\"--- Now running with i: \\(i)\")\n",
        "    var r = helloWorld(x: i, y: i)\n",
        "    print(\"Result from helloWorld: \\(String(r))\")\n",
        "}"
      ],
      "execution_count": 4,
      "outputs": [
        {
          "output_type": "stream",
          "text": [
            "--- Now running with i: 8\r\n",
            "Hello World, x was < 10\r\n",
            "Result from helloWorld: 16\r\n",
            "--- Now running with i: 13\r\n",
            "Hello World, x was >= 10 but < 20\r\n",
            "Result from helloWorld: 26\r\n",
            "--- Now running with i: 18\r\n",
            "Hello World, x was >= 10 but < 20\r\n",
            "Result from helloWorld: 36\r\n",
            "--- Now running with i: 23\r\n",
            "Hello World, x was >= 20\r\n",
            "Result from helloWorld: 46\r\n"
          ],
          "name": "stdout"
        }
      ]
    },
    {
      "cell_type": "code",
      "metadata": {
        "id": "UIoS6tn4kK5y",
        "colab_type": "code",
        "outputId": "c16377d3-d809-4d15-ef87-3d426c91c978",
        "colab": {
          "base_uri": "https://localhost:8080/",
          "height": 51
        }
      },
      "source": [
        "print(helloWorld(x: 1, y: 2))"
      ],
      "execution_count": 5,
      "outputs": [
        {
          "output_type": "stream",
          "text": [
            "Hello World, x was < 10\r\n",
            "3\r\n"
          ],
          "name": "stdout"
        }
      ]
    },
    {
      "cell_type": "markdown",
      "metadata": {
        "colab_type": "text",
        "id": "kiZG7uhm8qCF"
      },
      "source": [
        "Easy, right?\n",
        "\n",
        "If you want a loop starting at 0 to 2 (exclusive) you could do any of the following"
      ]
    },
    {
      "cell_type": "code",
      "metadata": {
        "id": "bbhMPB2Xk5hF",
        "colab_type": "code",
        "outputId": "31e4eada-2f12-409e-dbc8-c1541def7558",
        "colab": {
          "base_uri": "https://localhost:8080/",
          "height": 170
        }
      },
      "source": [
        "print(\"Iterate over the items. `0..<2` is like a list [0, 1].\")\n",
        "for i in 0..<2 {\n",
        "  print(i)\n",
        "}\n",
        "\n",
        "print(\"Iterate over an actual list.\")\n",
        "for i in [0, 1] {\n",
        "  print(i)\n",
        "}\n",
        "\n",
        "print(\"While works\")\n",
        "var i = 0\n",
        "while i < 2 {\n",
        "  print(i)\n",
        "  i += 1\n",
        "}"
      ],
      "execution_count": 6,
      "outputs": [
        {
          "output_type": "stream",
          "text": [
            "Iterate over the items. `0..<2` is like a list [0, 1].\r\n",
            "0\r\n",
            "1\r\n",
            "Iterate over an actual list.\r\n",
            "0\r\n",
            "1\r\n",
            "While works\r\n",
            "0\r\n",
            "1\r\n"
          ],
          "name": "stdout"
        }
      ]
    },
    {
      "cell_type": "code",
      "metadata": {
        "id": "uelFlYadlxPV",
        "colab_type": "code",
        "outputId": "6afa59b8-52a2-4cb7-efae-1fdd876136d6",
        "colab": {
          "base_uri": "https://localhost:8080/",
          "height": 51
        }
      },
      "source": [
        "print(\"Swift supports standard key words like continue and break\")\n",
        "while true {\n",
        "  print(\"Entered while\")\n",
        "  break\n",
        "}"
      ],
      "execution_count": 7,
      "outputs": [
        {
          "output_type": "stream",
          "text": [
            "Swift supports standard key words like continue and break\r\n",
            "Entered while\r\n"
          ],
          "name": "stdout"
        }
      ]
    },
    {
      "cell_type": "markdown",
      "metadata": {
        "colab_type": "text",
        "id": "5QyOUhFw1OUX"
      },
      "source": [
        "## NumPy and lists\n",
        "Use Python.import to import a Python module. It works like the import keyword in Python.\n",
        "\n",
        "Swift For TensorFlow supports Python interoperability.\n",
        "You can import Python modules from Swift, call Python functions, and convert values between Swift and Python.\n",
        "\n",
        "Python has lists built into the language.\n",
        "However, we will use a library called NumPy for this.\n",
        "Numpy gives you lots of support functions that are useful when doing machine learning.\n",
        "\n",
        "In the following, you will see an import statement that makes the entire NumPy package available to Swift for TensorFlow. By assigning this imported library to np, we can access NumPy symbols using an abbreviated syntax."
      ]
    },
    {
      "cell_type": "code",
      "metadata": {
        "id": "twGrlXwDmXvX",
        "colab_type": "code",
        "outputId": "0cd50bae-a4da-42c8-d0d9-3dbf7bdc32fd",
        "colab": {
          "base_uri": "https://localhost:8080/",
          "height": 187
        }
      },
      "source": [
        "let np = Python.import(\"numpy\")  // Make NumPy available using np.\n",
        "\n",
        "var a = np.array([\"Hello\", \"World\"])\n",
        "a = np.append(a, \"!\")\n",
        "print(\"Current array: \\(a)\")\n",
        "print(\"Printing each element\" )\n",
        "for i in a {\n",
        "  print(i)\n",
        "}\n",
        "\n",
        "print(\"\\nPrinting each element and their index\")\n",
        "\n",
        "for (i, e) in a.enumerated() {\n",
        "    print(\"Index: \\(i), was: \\(e)\")\n",
        "}\n"
      ],
      "execution_count": 8,
      "outputs": [
        {
          "output_type": "stream",
          "text": [
            "Current array: ['Hello' 'World' '!']\r\n",
            "Printing each element\r\n",
            "Hello\r\n",
            "World\r\n",
            "!\r\n",
            "\r\n",
            "Printing each element and their index\r\n",
            "Index: 0, was: Hello\r\n",
            "Index: 1, was: World\r\n",
            "Index: 2, was: !\r\n"
          ],
          "name": "stdout"
        }
      ]
    },
    {
      "cell_type": "code",
      "metadata": {
        "id": "Zru-5zXYpjyX",
        "colab_type": "code",
        "outputId": "e4563beb-c90c-4bfc-ecbc-9baa54ce8028",
        "colab": {
          "base_uri": "https://localhost:8080/",
          "height": 85
        }
      },
      "source": [
        "print(\"Showing some basic math on arrays\")\n",
        "var b = np.array([0, 1, 4, 3, 2])\n",
        "print(\"Max: \\(np.max(b))\")\n",
        "print(\"Average: \\(np.average(b))\")\n",
        "print(\"Max Index: \\(np.argmax(b))\")"
      ],
      "execution_count": 9,
      "outputs": [
        {
          "output_type": "stream",
          "text": [
            "Showing some basic math on arrays\r\n",
            "Max: 4\r\n",
            "Average: 2.0\r\n",
            "Max Index: 2\r\n"
          ],
          "name": "stdout"
        }
      ]
    },
    {
      "cell_type": "markdown",
      "metadata": {
        "colab_type": "text",
        "id": "hPc109KpuI4p"
      },
      "source": [
        "In Swift, PythonObject represents an object from Python. All Python APIs use and return PythonObject instances.\n",
        "\n",
        "Basic types in Swift (like numbers and arrays) are convertible to PythonObject. In some cases (for literals and functions taking PythonConvertible arguments), conversion happens implicitly. To explicitly cast a Swift value to PythonObject, use the PythonObject initializer.\n",
        "\n",
        "PythonObject defines many standard operations, including numeric operations, indexing, and iteration."
      ]
    },
    {
      "cell_type": "code",
      "metadata": {
        "id": "cZiFpBnJqNs-",
        "colab_type": "code",
        "outputId": "9af3c38f-612c-43ce-f546-ff235f1c35c5",
        "colab": {
          "base_uri": "https://localhost:8080/",
          "height": 102
        }
      },
      "source": [
        "print(\"You can print the type of anything\")\n",
        "print(\"Swift type\")\n",
        "print(\"Type of b: \\(type(of: b)), type of b[0]: \\(type(of: b[0]))\")\n",
        "print(\"Python type\")\n",
        "print(\"Type of b: \\(Python.type(b)), type of b[0]: \\(Python.type(b[0]))\")"
      ],
      "execution_count": 10,
      "outputs": [
        {
          "output_type": "stream",
          "text": [
            "You can print the type of anything\r\n",
            "Swift type\r\n",
            "Type of b: PythonObject, type of b[0]: PythonObject\r\n",
            "Python type\r\n",
            "Type of b: <class 'numpy.ndarray'>, type of b[0]: <class 'numpy.int64'>\r\n"
          ],
          "name": "stdout"
        }
      ]
    },
    {
      "cell_type": "code",
      "metadata": {
        "id": "ZyGAIdtqrVTo",
        "colab_type": "code",
        "outputId": "617c0743-e520-43c9-fd70-1d0bb931b25f",
        "colab": {
          "base_uri": "https://localhost:8080/",
          "height": 85
        }
      },
      "source": [
        "print(\"Use NumPy to create a [3, 3] dimension array by random numbers\")\n",
        "var c = np.random.rand(3, 3)\n",
        "print(c)"
      ],
      "execution_count": 11,
      "outputs": [
        {
          "output_type": "stream",
          "text": [
            "Use NumPy to create a [3, 3] dimension array by random numbers\r\n",
            "[[0.37558794 0.76188537 0.64058941]\r\n",
            " [0.61845844 0.7878529  0.42337332]\r\n",
            " [0.53637738 0.67752177 0.07434855]]\r\n"
          ],
          "name": "stdout"
        }
      ]
    },
    {
      "cell_type": "code",
      "metadata": {
        "id": "rez029Iareoy",
        "colab_type": "code",
        "outputId": "87b555e5-2fd6-4515-8ebf-0530451142f6",
        "colab": {
          "base_uri": "https://localhost:8080/",
          "height": 85
        }
      },
      "source": [
        "print(\"You can print the dimensions of arrays\")\n",
        "print(\"Shape of a: \\(a.shape)\")\n",
        "print(\"Shape of b: \\(b.shape)\")\n",
        "print(\"Shape of c: \\(c.shape)\")"
      ],
      "execution_count": 12,
      "outputs": [
        {
          "output_type": "stream",
          "text": [
            "You can print the dimensions of arrays\r\n",
            "Shape of a: (3,)\r\n",
            "Shape of b: (5,)\r\n",
            "Shape of c: (3, 3)\r\n"
          ],
          "name": "stdout"
        }
      ]
    },
    {
      "cell_type": "markdown",
      "metadata": {
        "colab_type": "text",
        "id": "7b5jv0ouFREV"
      },
      "source": [
        "All usage of Colab in this course is completely free of charge. Even GPU usage in Colab is provided free of charge for up to several hours of execution every day.\n",
        "\n",
        "**Using GPUs**\n",
        "* Many of the exercises in this course execute faster when using the GPU runtime. To enable, select Runtime | Change runtime type | Hardware accelerator | GPU\n",
        "\n",
        "**Some final words on Colab**\n",
        "*   You execute each cell in order, you can edit & re-execute cells if you want.\n",
        "*   Sometimes, this could have unintended consequences. For example, if you add a dimension to an array and execute the cell multiple times, the cells that follow may not work. If you encounter problems, reset your environment:\n",
        "  *   Runtime -> Restart runtime... Resets your Python shell\n",
        "  *   Runtime -> Restart all runtimes... Will reset the Colab image, and get you back to a 100% clean environment\n",
        "* You can also clear the output in the Colab by doing: Edit -> Clear all outputs\n",
        "* Colabs in this course are loaded from GitHub. Save to your Google Drive if you want a copy with your code/output: File -> Save a copy in Drive...\n",
        "\n",
        "**Learn More**\n",
        "*   Check out [this](https://www.youtube.com/watch?v=inN8seMm7UI&list=PLQY2H8rRoyvwLbzbnKJ59NkZvQAW9wLbx&index=3) episode of #CodingTensorFlow, and don't forget to subscribe to the YouTube channel ;)\n"
      ]
    }
  ]
}
