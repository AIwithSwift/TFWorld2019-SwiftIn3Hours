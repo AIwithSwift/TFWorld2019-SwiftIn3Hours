{
 "cells": [
  {
   "cell_type": "markdown",
   "metadata": {},
   "source": [
    "# MNIST GAN"
   ]
  },
  {
   "cell_type": "markdown",
   "metadata": {},
   "source": [
    "## Imports"
   ]
  },
  {
   "cell_type": "code",
   "execution_count": 1,
   "metadata": {},
   "outputs": [],
   "source": [
    "import Datasets\n",
    "import Foundation\n",
    "import ModelSupport\n",
    "import TensorFlow\n",
    "%include \"GANSupport.swift\""
   ]
  },
  {
   "cell_type": "markdown",
   "metadata": {},
   "source": [
    "## Parameters"
   ]
  },
  {
   "cell_type": "code",
   "execution_count": 2,
   "metadata": {},
   "outputs": [],
   "source": [
    "let epochCount = 10\n",
    "let batchSize = 32\n",
    "let outputFolder = \"./output/\"\n",
    "let imageHeight = 28\n",
    "let imageWidth = 28\n",
    "let imageSize = imageHeight * imageWidth\n",
    "let latentSize = 64"
   ]
  },
  {
   "cell_type": "code",
   "execution_count": 3,
   "metadata": {},
   "outputs": [],
   "source": [
    "struct Generator: Layer {\n",
    "    var dense1 = Dense<Float>(\n",
    "        inputSize: latentSize, outputSize: latentSize * 2,\n",
    "        activation: { leakyRelu($0) })\n",
    "\n",
    "    var dense2 = Dense<Float>(\n",
    "        inputSize: latentSize * 2, outputSize: latentSize * 4,\n",
    "        activation: { leakyRelu($0) })\n",
    "\n",
    "    var dense3 = Dense<Float>(\n",
    "        inputSize: latentSize * 4, outputSize: latentSize * 8,\n",
    "        activation: { leakyRelu($0) })\n",
    "\n",
    "    var dense4 = Dense<Float>(\n",
    "        inputSize: latentSize * 8, outputSize: imageSize,\n",
    "        activation: tanh)\n",
    "\n",
    "    var batchnorm1 = BatchNorm<Float>(featureCount: latentSize * 2)\n",
    "    var batchnorm2 = BatchNorm<Float>(featureCount: latentSize * 4)\n",
    "    var batchnorm3 = BatchNorm<Float>(featureCount: latentSize * 8)\n",
    "\n",
    "    @differentiable\n",
    "    func callAsFunction(_ input: Tensor<Float>) -> Tensor<Float> {\n",
    "        let x1 = batchnorm1(dense1(input))\n",
    "        let x2 = batchnorm2(dense2(x1))\n",
    "        let x3 = batchnorm3(dense3(x2))\n",
    "        return dense4(x3)\n",
    "    }\n",
    "}"
   ]
  },
  {
   "cell_type": "markdown",
   "metadata": {},
   "source": [
    "## Discriminator Model"
   ]
  },
  {
   "cell_type": "code",
   "execution_count": 4,
   "metadata": {},
   "outputs": [],
   "source": [
    "struct Discriminator: Layer {\n",
    "    var dense1 = Dense<Float>(\n",
    "        inputSize: imageSize, outputSize: 256,\n",
    "        activation: { leakyRelu($0) })\n",
    "\n",
    "    var dense2 = Dense<Float>(\n",
    "        inputSize: 256, outputSize: 64,\n",
    "        activation: { leakyRelu($0) })\n",
    "\n",
    "    var dense3 = Dense<Float>(\n",
    "        inputSize: 64, outputSize: 16,\n",
    "        activation: { leakyRelu($0) })\n",
    "\n",
    "    var dense4 = Dense<Float>(\n",
    "        inputSize: 16, outputSize: 1,\n",
    "        activation: identity)\n",
    "\n",
    "    @differentiable\n",
    "    func callAsFunction(_ input: Tensor<Float>) -> Tensor<Float> {\n",
    "        input.sequenced(through: dense1, dense2, dense3, dense4)\n",
    "    }\n",
    "}"
   ]
  },
  {
   "cell_type": "markdown",
   "metadata": {},
   "source": [
    "## Loss functions"
   ]
  },
  {
   "cell_type": "code",
   "execution_count": 5,
   "metadata": {},
   "outputs": [],
   "source": [
    "@differentiable\n",
    "func generatorLoss(fakeLogits: Tensor<Float>) -> Tensor<Float> {\n",
    "    sigmoidCrossEntropy(\n",
    "        logits: fakeLogits,\n",
    "        labels: Tensor(ones: fakeLogits.shape))\n",
    "}\n",
    "\n",
    "@differentiable\n",
    "func discriminatorLoss(realLogits: Tensor<Float>, fakeLogits: Tensor<Float>) -> Tensor<Float> {\n",
    "    let realLoss = sigmoidCrossEntropy(\n",
    "        logits: realLogits,\n",
    "        labels: Tensor(ones: realLogits.shape))\n",
    "    let fakeLoss = sigmoidCrossEntropy(\n",
    "        logits: fakeLogits,\n",
    "        labels: Tensor(zeros: fakeLogits.shape))\n",
    "    return realLoss + fakeLoss\n",
    "}\n"
   ]
  },
  {
   "cell_type": "code",
   "execution_count": 6,
   "metadata": {},
   "outputs": [],
   "source": [
    "/// Returns `size` samples of noise vector.\n",
    "func sampleVector(size: Int) -> Tensor<Float> {\n",
    "    Tensor(randomNormal: [size, latentSize])\n",
    "}"
   ]
  },
  {
   "cell_type": "code",
   "execution_count": 7,
   "metadata": {},
   "outputs": [
    {
     "name": "stdout",
     "output_type": "stream",
     "text": [
      "Loading resource: train-images-idx3-ubyte\n",
      "Loading local data at: /notebooks/TFWorld 2019 Finished Examples/train-images-idx3-ubyte\n",
      "Succesfully loaded resource: train-images-idx3-ubyte\n",
      "Loading resource: train-labels-idx1-ubyte\n",
      "Loading local data at: /notebooks/TFWorld 2019 Finished Examples/train-labels-idx1-ubyte\n",
      "Succesfully loaded resource: train-labels-idx1-ubyte\n",
      "2019-10-21 10:43:35.369831: W tensorflow/core/framework/cpu_allocator_impl.cc:81] Allocation of 188160000 exceeds 10% of system memory.\n",
      "2019-10-21 10:43:35.415497: I tensorflow/core/platform/cpu_feature_guard.cc:142] Your CPU supports instructions that this TensorFlow binary was not compiled to use: SSE4.1 SSE4.2 AVX AVX2 FMA\n",
      "2019-10-21 10:43:35.441600: I tensorflow/core/platform/profile_utils/cpu_utils.cc:94] CPU Frequency: 2400000000 Hz\n",
      "2019-10-21 10:43:35.445355: I tensorflow/compiler/xla/service/service.cc:168] XLA service 0x259c050 initialized for platform Host (this does not guarantee that XLA will be used). Devices:\n",
      "2019-10-21 10:43:35.445405: I tensorflow/compiler/xla/service/service.cc:176]   StreamExecutor device (0): Host, Default Version\n",
      "2019-10-21 10:43:35.488182: I tensorflow/stream_executor/platform/default/dso_loader.cc:44] Successfully opened dynamic library libcuda.so.1\n",
      "2019-10-21 10:43:35.488229: E tensorflow/stream_executor/cuda/cuda_driver.cc:318] failed call to cuInit: UNKNOWN ERROR (-1)\n",
      "2019-10-21 10:43:35.488266: I tensorflow/stream_executor/cuda/cuda_diagnostics.cc:156] kernel driver does not appear to be running on this host (1f0d2388291b): /proc/driver/nvidia/version does not exist\n",
      "2019-10-21 10:43:35.494530: W tensorflow/core/framework/cpu_allocator_impl.cc:81] Allocation of 188160000 exceeds 10% of system memory.\n",
      "2019-10-21 10:43:35.542908: W tensorflow/core/framework/cpu_allocator_impl.cc:81] Allocation of 188160000 exceeds 10% of system memory.\n",
      "2019-10-21 10:43:35.570777: W tensorflow/core/framework/cpu_allocator_impl.cc:81] Allocation of 188160000 exceeds 10% of system memory.\n",
      "Loading resource: t10k-images-idx3-ubyte\n",
      "Loading local data at: /notebooks/TFWorld 2019 Finished Examples/t10k-images-idx3-ubyte\n",
      "Succesfully loaded resource: t10k-images-idx3-ubyte\n",
      "Loading resource: t10k-labels-idx1-ubyte\n",
      "Loading local data at: /notebooks/TFWorld 2019 Finished Examples/t10k-labels-idx1-ubyte\n",
      "Succesfully loaded resource: t10k-labels-idx1-ubyte\n"
     ]
    }
   ],
   "source": [
    "let dataset = MNIST(batchSize: batchSize, flattening: true, normalizing: true)\n",
    "\n",
    "var generator = Generator()\n",
    "var discriminator = Discriminator()\n",
    "\n",
    "let optG = Adam(for: generator, learningRate: 2e-4, beta1: 0.5)\n",
    "let optD = Adam(for: discriminator, learningRate: 2e-4, beta1: 0.5)"
   ]
  },
  {
   "cell_type": "code",
   "execution_count": 8,
   "metadata": {},
   "outputs": [],
   "source": [
    "// Noise vectors and plot function for testing\n",
    "let testImageGridSize = 4\n",
    "let testVector = sampleVector(size: testImageGridSize * testImageGridSize)"
   ]
  },
  {
   "cell_type": "code",
   "execution_count": 9,
   "metadata": {},
   "outputs": [],
   "source": [
    "func saveImageGrid(_ testImage: Tensor<Float>, name: String) throws {\n",
    "    var gridImage = testImage.reshaped(\n",
    "        to: [\n",
    "            testImageGridSize, testImageGridSize,\n",
    "            imageHeight, imageWidth,\n",
    "        ])\n",
    "    // Add padding.\n",
    "    gridImage = gridImage.padded(forSizes: [(0, 0), (0, 0), (1, 1), (1, 1)], with: 1)\n",
    "    // Transpose to create single image.\n",
    "    gridImage = gridImage.transposed(withPermutations: [0, 2, 1, 3])\n",
    "    gridImage = gridImage.reshaped(\n",
    "        to: [\n",
    "            (imageHeight + 2) * testImageGridSize,\n",
    "            (imageWidth + 2) * testImageGridSize,\n",
    "        ])\n",
    "    // Convert [-1, 1] range to [0, 1] range.\n",
    "    gridImage = (gridImage + 1) / 2\n",
    "\n",
    "    try saveImage(\n",
    "        gridImage, size: (gridImage.shape[0], gridImage.shape[1]), directory: outputFolder,\n",
    "        name: name)\n",
    "}"
   ]
  },
  {
   "cell_type": "markdown",
   "metadata": {},
   "source": [
    "## Training  and Inference"
   ]
  },
  {
   "cell_type": "code",
   "execution_count": null,
   "metadata": {},
   "outputs": [
    {
     "name": "stdout",
     "output_type": "stream",
     "text": [
      "Start training...\r\n"
     ]
    }
   ],
   "source": [
    "print(\"Start training...\")\n",
    "\n",
    "// Start training loop.\n",
    "for epoch in 1...epochCount {\n",
    "    // Start training phase.\n",
    "    Context.local.learningPhase = .training\n",
    "    for i in 0 ..< dataset.trainingSize / batchSize {\n",
    "        // Perform alternative update.\n",
    "        // Update generator.\n",
    "        let vec1 = sampleVector(size: batchSize)\n",
    "\n",
    "        let 𝛁generator = generator.gradient { generator -> Tensor<Float> in\n",
    "            let fakeImages = generator(vec1)\n",
    "            let fakeLogits = discriminator(fakeImages)\n",
    "            let loss = generatorLoss(fakeLogits: fakeLogits)\n",
    "            return loss\n",
    "        }\n",
    "        optG.update(&generator, along: 𝛁generator)\n",
    "\n",
    "        // Update discriminator.\n",
    "        let realImages = dataset.trainingImages.minibatch(at: i, batchSize: batchSize)\n",
    "        let vec2 = sampleVector(size: batchSize)\n",
    "        let fakeImages = generator(vec2)\n",
    "\n",
    "        let 𝛁discriminator = discriminator.gradient { discriminator -> Tensor<Float> in\n",
    "            let realLogits = discriminator(realImages)\n",
    "            let fakeLogits = discriminator(fakeImages)\n",
    "            let loss = discriminatorLoss(realLogits: realLogits, fakeLogits: fakeLogits)\n",
    "            return loss\n",
    "        }\n",
    "        optD.update(&discriminator, along: 𝛁discriminator)\n",
    "    }\n",
    "\n",
    "    // Start inference phase.\n",
    "    Context.local.learningPhase = .inference\n",
    "    let testImage = generator(testVector)\n",
    "\n",
    "    do {\n",
    "        try saveImageGrid(testImage, name: \"epoch-\\(epoch)-output\")\n",
    "    } catch {\n",
    "        print(\"Could not save image grid with error: \\(error)\")\n",
    "    }\n",
    "\n",
    "    let lossG = generatorLoss(fakeLogits: testImage)\n",
    "    print(\"[Epoch: \\(epoch)] Loss-G: \\(lossG)\")\n",
    "}"
   ]
  }
 ],
 "metadata": {
  "kernelspec": {
   "display_name": "Swift",
   "language": "swift",
   "name": "swift"
  },
  "language_info": {
   "file_extension": ".swift",
   "mimetype": "text/x-swift",
   "name": "swift",
   "version": ""
  }
 },
 "nbformat": 4,
 "nbformat_minor": 2
}
