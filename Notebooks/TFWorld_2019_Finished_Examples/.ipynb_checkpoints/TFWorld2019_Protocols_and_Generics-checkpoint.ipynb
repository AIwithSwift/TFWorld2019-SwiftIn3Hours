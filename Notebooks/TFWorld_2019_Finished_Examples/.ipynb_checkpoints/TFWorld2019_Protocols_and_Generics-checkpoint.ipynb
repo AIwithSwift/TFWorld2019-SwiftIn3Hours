{
 "cells": [
  {
   "cell_type": "markdown",
   "metadata": {},
   "source": [
    "# Protocols\n",
    "Protocols are the \"Swifty\" way of expressing inheritance. Protocols allow you to achieve similar goals to subclassing and inheritance, with an entirely different set of positives and negatives."
   ]
  },
  {
   "cell_type": "code",
   "execution_count": 1,
   "metadata": {},
   "outputs": [],
   "source": [
    "enum Spaceship: String {\n",
    "    case big = \"Star Destroyer\"\n",
    "    case medium = \"USS Enterprise\"\n",
    "    case small = \"Serenity\"\n",
    "    \n",
    "    var description: String {\n",
    "        switch self {\n",
    "            case .big:\n",
    "                return \"An Imperial Star Destroyer.\"\n",
    "            case .medium: \n",
    "                return \"The flagship of the Federation Starleet, the Enterprise.\"\n",
    "            case .small: \n",
    "                return \"A tiny little ship, Firefly class.\"\n",
    "        }\n",
    "    }\n",
    "    \n",
    "    init?(size: String) {\n",
    "        switch size {\n",
    "            case \"big\":\n",
    "                self = .big\n",
    "            case \"medium\":\n",
    "                self = .medium\n",
    "            case \"small\":\n",
    "                self = .small\n",
    "            default:\n",
    "                return nil\n",
    "        }\n",
    "    }\n",
    "}"
   ]
  },
  {
   "cell_type": "code",
   "execution_count": 2,
   "metadata": {},
   "outputs": [],
   "source": [
    "// Extending an enum\n",
    "extension Spaceship {\n",
    "    func describe() -> String {\n",
    "        return self.description\n",
    "    }\n",
    "}"
   ]
  },
  {
   "cell_type": "code",
   "execution_count": 3,
   "metadata": {},
   "outputs": [
    {
     "name": "stdout",
     "output_type": "stream",
     "text": [
      "This ship is: An Imperial Star Destroyer.\r\n"
     ]
    }
   ],
   "source": [
    "let ship = Spaceship.big\n",
    "print(\"This ship is: \\(ship.describe())\")"
   ]
  },
  {
   "cell_type": "markdown",
   "metadata": {},
   "source": [
    "# Structs"
   ]
  },
  {
   "cell_type": "code",
   "execution_count": 14,
   "metadata": {},
   "outputs": [],
   "source": [
    "import Foundation\n",
    "\n",
    "struct PersonalSpaceship {\n",
    "    var color: String\n",
    "    let engineCount: Int\n",
    "    var navalPrefix: String\n",
    "    var name: String\n",
    "    \n",
    "    // Computed property\n",
    "    var speed: Int {\n",
    "        // returns speed in kph\n",
    "        return engineCount * 1080000000\n",
    "    }\n",
    "    \n",
    "    // we could also have a lazy var\n",
    "    \n",
    "    func describe() -> String {\n",
    "        return \"Ship, '\\(navalPrefix) \\(name)' is \\(color) and can travel at \\(speed) kilometers per hour.\"\n",
    "    }\n",
    "    \n",
    "    init(color: String, engineCount: Int, name: String) {\n",
    "        self.color = color\n",
    "        self.engineCount = engineCount\n",
    "        self.name = name\n",
    "        self.navalPrefix = \"USS\"\n",
    "    }\n",
    "    \n",
    "    // another initialiser\n",
    "    init?(color: String, engineCount: Int, navalPrefix: String, name: String) {\n",
    "        self.color = color\n",
    "        self.engineCount = engineCount\n",
    "        self.name = name\n",
    "        self.navalPrefix = navalPrefix\n",
    "    }\n",
    "}"
   ]
  },
  {
   "cell_type": "code",
   "execution_count": 15,
   "metadata": {},
   "outputs": [
    {
     "name": "stdout",
     "output_type": "stream",
     "text": [
      "Ship, 'USS Starbug' is Green and can travel at 2160000000 kilometers per hour.\r\n"
     ]
    }
   ],
   "source": [
    "var myShip = PersonalSpaceship(color: \"Green\", engineCount: 2, name: \"Starbug\")\n",
    "print(myShip.describe())"
   ]
  },
  {
   "cell_type": "code",
   "execution_count": 16,
   "metadata": {},
   "outputs": [
    {
     "name": "stdout",
     "output_type": "stream",
     "text": [
      "variable!\r\n",
      "haha!\r\n"
     ]
    }
   ],
   "source": [
    "// Passing by value type (unlike a class)\n",
    "class TestClass {\n",
    "    var variable = \"variable!\"\n",
    "}\n",
    "\n",
    "func doAThing(_ thing: TestClass) {\n",
    "    thing.variable = \"haha!\"\n",
    "}\n",
    "\n",
    "// we can modify a constant (let) class with variable properties\n",
    "let myObject = TestClass()\n",
    "print(myObject.variable)\n",
    "doAThing(myObject)\n",
    "print(myObject.variable)"
   ]
  },
  {
   "cell_type": "code",
   "execution_count": 18,
   "metadata": {},
   "outputs": [
    {
     "ename": "",
     "evalue": "",
     "output_type": "error",
     "traceback": [
      "error: <Cell 18>:7:23: error: '&' used with non-inout argument of type 'PersonalSpaceship'\nchangeShipColor(ship: &newShip, toColor: \"Yellow\")\n                      ^~~~~~~~\n                      \n\nerror: <Cell 18>:2:10: error: cannot assign to property: 'ship' is a 'let' constant\n    ship.color = color\n    ~~~~ ^\n\n"
     ]
    }
   ],
   "source": [
    "// Structs are implicitly passed by value, so we cannot modify it.\n",
    "\n",
    "// func changeShipColor(ship: PersonalSpaceship, toColor color: String) -> Void {\n",
    "//     ship.color = color\n",
    "// }\n",
    "\n",
    "// var newShip = PersonalSpaceship(color: \"Blue\", engineCount: 1, name: \"Starbug 2\")\n",
    "// print(newShip.describe())\n",
    "// changeShipColor(ship: &newShip, toColor: \"Yellow\")\n",
    "// print(newShip.describe())"
   ]
  },
  {
   "cell_type": "markdown",
   "metadata": {},
   "source": [
    "## Doing things properly with Protocols\n",
    "\n",
    "We're going to make a Ship protocol, as well as protocols for Mining, and Transport ships. In a traditional Oo pattern (assuming no multiple inheritance) you might make Mining and Transport abstract classes, and made both inherit from Ship. Each specific ship would then be a base class. \n",
    "\n",
    "By doing it with Protocols, there is no coupling, and a lot more flexibility to your design choices!"
   ]
  },
  {
   "cell_type": "code",
   "execution_count": 21,
   "metadata": {},
   "outputs": [],
   "source": [
    "// Doing it properly with Protocols\n",
    "protocol Ship {\n",
    "    var color: String { get set }\n",
    "    var engineCount: Int { get }\n",
    "}\n",
    "\n",
    "protocol Mining {\n",
    "    var storedOre: Int { get set }\n",
    "    mutating func loadOre()\n",
    "    mutating func dumpOre()\n",
    "}\n",
    "\n",
    "protocol Transport {\n",
    "    var passengers: Int { get set }\n",
    "    var passengerCapacity: Int { get }\n",
    "}"
   ]
  },
  {
   "cell_type": "markdown",
   "metadata": {},
   "source": [
    "We can now define a Starbug:"
   ]
  },
  {
   "cell_type": "code",
   "execution_count": 22,
   "metadata": {},
   "outputs": [],
   "source": [
    "struct Starbug: Ship, Mining, Transport {\n",
    "    var color: String\n",
    "    let engineCount: Int\n",
    "    \n",
    "    var storedOre: Int\n",
    "    \n",
    "    var passengers: Int\n",
    "    var passengerCapacity: Int\n",
    "    \n",
    "    mutating func loadOre() {\n",
    "        print(\"Loading ore!\")\n",
    "        storedOre = 10\n",
    "    }\n",
    "    \n",
    "    mutating func dumpOre() {\n",
    "        print(\"Dumping all ore!\")\n",
    "        storedOre = 0\n",
    "    }\n",
    "}"
   ]
  },
  {
   "cell_type": "markdown",
   "metadata": {},
   "source": [
    "And then create one:"
   ]
  },
  {
   "cell_type": "code",
   "execution_count": null,
   "metadata": {},
   "outputs": [],
   "source": [
    "var starbugOne = Starbug(color: \"Green\", engineCount: 1, storedOre: 0, passengers: 0, passengerCapacity: 0)"
   ]
  }
 ],
 "metadata": {
  "kernelspec": {
   "display_name": "Swift",
   "language": "swift",
   "name": "swift"
  },
  "language_info": {
   "file_extension": ".swift",
   "mimetype": "text/x-swift",
   "name": "swift",
   "version": ""
  }
 },
 "nbformat": 4,
 "nbformat_minor": 2
}
