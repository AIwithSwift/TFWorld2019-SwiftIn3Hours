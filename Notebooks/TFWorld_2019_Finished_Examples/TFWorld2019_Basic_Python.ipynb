{
  "nbformat": 4,
  "nbformat_minor": 0,
  "metadata": {
    "colab": {
      "name": "blank_swift.ipynb",
      "provenance": [],
      "collapsed_sections": []
    },
    "kernelspec": {
      "name": "swift",
      "display_name": "Swift"
    }
  },
  "cells": [
    {
      "cell_type": "code",
      "metadata": {
        "id": "kZRlD4utdPuX",
        "colab_type": "code",
        "colab": {}
      },
      "source": [
        "import TensorFlow"
      ],
      "execution_count": 0,
      "outputs": []
    },
    {
      "cell_type": "markdown",
      "metadata": {
        "id": "Tup2LjvzLz0D",
        "colab_type": "text"
      },
      "source": [
        "Importing Python, and hooking it into the notebook environment"
      ]
    },
    {
      "cell_type": "code",
      "metadata": {
        "id": "IFDhw6oILtTM",
        "colab_type": "code",
        "outputId": "b2298604-d906-47b3-989a-049c205851ed",
        "colab": {
          "base_uri": "https://localhost:8080/",
          "height": 34
        }
      },
      "source": [
        "import Python\n",
        "%include \"EnableIPythonDisplay.swift\"\n",
        "IPythonDisplay.shell.enable_matplotlib(\"inline\")"
      ],
      "execution_count": 2,
      "outputs": [
        {
          "output_type": "execute_result",
          "data": {
            "text/plain": [
              "('inline', 'module://ipykernel.pylab.backend_inline')\n"
            ]
          },
          "metadata": {
            "tags": []
          },
          "execution_count": 2
        }
      ]
    },
    {
      "cell_type": "code",
      "metadata": {
        "id": "z93l8JV5Khv5",
        "colab_type": "code",
        "colab": {}
      },
      "source": [
        "// Create a XORModel Struct\n",
        "struct XORModel: Layer\n",
        "{\n",
        "  // define three layers, each of Dense type\n",
        "  var inputLayer = Dense<Float>(inputSize: 2, outputSize: 2, activation: sigmoid)\n",
        "  var hiddenLayer = Dense<Float>(inputSize: 2, outputSize: 2, activation: sigmoid)\n",
        "  var outputLayer = Dense<Float>(inputSize: 2, outputSize: 1, activation: sigmoid)\n",
        "  \n",
        "  // procide the differentiable thingo\n",
        "  @differentiable func callAsFunction(_ input: Tensor<Float>) -> Tensor<Float>\n",
        "  {\n",
        "    return input.sequenced(through: inputLayer, hiddenLayer, outputLayer)\n",
        "  }\n",
        "}"
      ],
      "execution_count": 0,
      "outputs": []
    },
    {
      "cell_type": "code",
      "metadata": {
        "id": "SSR6Mi0MKiWg",
        "colab_type": "code",
        "colab": {}
      },
      "source": [
        "// create an instance of our XORModel Struct (defined above)\n",
        "var model = XORModel()\n",
        "\n",
        "// create an optimizer (standard gradient descent)\n",
        "let optimizer = SGD(for: model, learningRate: 0.02)\n",
        "\n",
        "// create some training data\n",
        "let trainingData: Tensor<Float> = [[0, 0], [0, 1], [1, 0], [1, 1]]\n",
        "\n",
        "// label the training data (so we know the correct outputs)\n",
        "let trainingLabels: Tensor<Float> = [[0], [1], [1], [0]]"
      ],
      "execution_count": 0,
      "outputs": []
    },
    {
      "cell_type": "code",
      "metadata": {
        "id": "NSA-emMQe3fU",
        "colab_type": "code",
        "colab": {}
      },
      "source": [
        "var losses: [Float] = []"
      ],
      "execution_count": 0,
      "outputs": []
    },
    {
      "cell_type": "code",
      "metadata": {
        "id": "14HmPb1xKmG2",
        "colab_type": "code",
        "outputId": "97091c22-c71f-468e-905a-7eb89bb821db",
        "colab": {
          "base_uri": "https://localhost:8080/",
          "height": 357
        }
      },
      "source": [
        "for epoch in 0 ..< 100_000\n",
        "{\n",
        "    // do the ting\n",
        "    let 𝛁model = model.gradient { model -> Tensor<Float> in\n",
        "        let ŷ = model(trainingData)\n",
        "        let loss = meanSquaredError(predicted: ŷ, expected: trainingLabels)\n",
        "        if epoch % 5000 == 0\n",
        "        {\n",
        "          print(\"epoch: \\(epoch) loss: \\(loss)\")\n",
        "        }\n",
        "        losses.append(loss.scalarized())\n",
        "        return loss\n",
        "    }\n",
        "    optimizer.update(&model, along: 𝛁model)\n",
        "}"
      ],
      "execution_count": 6,
      "outputs": [
        {
          "output_type": "stream",
          "text": [
            "epoch: 0 loss: 0.25017095\n",
            "epoch: 5000 loss: 0.24968345\n",
            "epoch: 10000 loss: 0.24945173\n",
            "epoch: 15000 loss: 0.249071\n",
            "epoch: 20000 loss: 0.24838872\n",
            "epoch: 25000 loss: 0.24707231\n",
            "epoch: 30000 loss: 0.24431644\n",
            "epoch: 35000 loss: 0.23789153\n",
            "epoch: 40000 loss: 0.22249581\n",
            "epoch: 45000 loss: 0.19924848\n",
            "epoch: 50000 loss: 0.18366006\n",
            "epoch: 55000 loss: 0.17458816\n",
            "epoch: 60000 loss: 0.16486104\n",
            "epoch: 65000 loss: 0.14299597\n",
            "epoch: 70000 loss: 0.074409775\n",
            "epoch: 75000 loss: 0.028045619\n",
            "epoch: 80000 loss: 0.014047721\n",
            "epoch: 85000 loss: 0.008686855\n",
            "epoch: 90000 loss: 0.006071343\n",
            "epoch: 95000 loss: 0.004578938\n"
          ],
          "name": "stdout"
        }
      ]
    },
    {
      "cell_type": "code",
      "metadata": {
        "id": "YMGdEacnfJqN",
        "colab_type": "code",
        "colab": {
          "base_uri": "https://localhost:8080/",
          "height": 517
        },
        "outputId": "ad6335f1-10c8-4400-ee10-dbb64b250922"
      },
      "source": [
        "\n",
        "\n",
        "let plot = Python.import(\"matplotlib.pyplot\")\n",
        "plot.figure(figsize: [12, 8])\n",
        "\n",
        "plot.ylabel(\"Loss\")\n",
        "plot.xlabel(\"epoch\")\n",
        "plot.plot(losses)\n",
        "\n",
        "plot.show()"
      ],
      "execution_count": 7,
      "outputs": [
        {
          "output_type": "display_data",
          "data": {
            "image/png": "[encoded data removed]",
            "text/plain": [
              "<Figure size 864x576 with 1 Axes>"
            ]
          },
          "metadata": {
            "tags": []
          }
        },
        {
          "output_type": "execute_result",
          "data": {
            "text/plain": [
              "None\n"
            ]
          },
          "metadata": {
            "tags": []
          },
          "execution_count": 7
        }
      ]
    },
    {
      "cell_type": "code",
      "metadata": {
        "id": "YkNFr_D2Kn-f",
        "colab_type": "code",
        "colab": {
          "base_uri": "https://localhost:8080/",
          "height": 85
        },
        "outputId": "dbe90c10-22b8-4e96-b674-49b67b8392be"
      },
      "source": [
        "print(round(model.inferring(from: [[0, 0], [0, 1], [1, 0], [1, 1]])))"
      ],
      "execution_count": 8,
      "outputs": [
        {
          "output_type": "stream",
          "text": [
            "[[0.0],\r\n",
            " [1.0],\r\n",
            " [1.0],\r\n",
            " [0.0]]\r\n"
          ],
          "name": "stdout"
        }
      ]
    }
  ]
}